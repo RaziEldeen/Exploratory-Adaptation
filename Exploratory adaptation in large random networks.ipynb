{
 "cells": [
  {
   "cell_type": "code",
   "execution_count": 54,
   "id": "30a28430",
   "metadata": {},
   "outputs": [],
   "source": [
    "import jax\n",
    "import jax.numpy as jnp\n",
    "from jax import jit, random, grad"
   ]
  },
  {
   "cell_type": "code",
   "execution_count": 83,
   "id": "ff17e6bd",
   "metadata": {},
   "outputs": [],
   "source": [
    "import itertools\n",
    "from tqdm import tqdm\n",
    "\n",
    "from utils import *\n",
    "from scipy.stats import genpareto,genexpon\n",
    "import numpy as np\n",
    "import matplotlib.pyplot as plt\n",
    "#import pandas as pd\n",
    "from graph_tool.generation import random_graph\n",
    "from graph_tool.spectral import adjacency\n"
   ]
  },
  {
   "cell_type": "markdown",
   "id": "77c684bc",
   "metadata": {},
   "source": [
    "## Random number generators:\n",
    "<ol>\n",
    "    <li> <strong>SF distribution</strong>: obtained by discretization to the nearest integer of the continuous Pareto distribution\n",
    "$P(K) = \\frac{(\\gamma - 1)a^{\\gamma -1}}{K^\\gamma}$ \n",
    "which we get using the Generalized pareto distribution $$P(K) = \\frac{1}{\\sigma}\\left(1 + \\frac{\\xi(K - \\mu)}{\\sigma}\\right)^{\\left(-\\frac{1}{\\xi} - 1\\right)} \\stackrel{*}{=}  \\frac{(\\gamma - 1)a^{\\gamma -1}}{K^\\gamma}$$\n",
    "$*\\text{ by setting } \\xi = \\frac{1}{\\gamma -1},~ \\sigma = \\frac{a}{\\gamma -1}, \\mu = a$\n",
    "\n",
    "    \n",
    "which can be generated using `scipy.stats.genpareto(c=1/(gamma-1), scale=a/(gamma-1), loc=a)`\n",
    "\n",
    "the average connectivity $<K>$ can be calculate theoritically $\\mathbb{E}\\left[K\\right] = \\mu + \\frac{\\sigma}{1-\\xi} \\stackrel{*}{=} \\frac{a}{\\gamma -2}$</li>\n",
    "    \n",
    "  <li><strong>Binomial distribution</strong>: parametrized by the average connectivity $<K>$ we generate from $K \\sim B(N, \\frac{<k>}{N})$ \n",
    "      \n",
    "which can be generated using `numpy.random.binomial(n=N, p=mean_k/N)`\n",
    "      \n",
    "</li>\n",
    "  <li><strong>Exponential distribution</strong>: obtained by discretization to the nearest integer of the continuous Exponential distribution $P(k) = \\frac{1}{\\beta} \\exp(-\\frac{k}{\\beta})$</li>\n",
    "    \n",
    "which can be generated using `numpy.random.exponential(scale=beta)`\n",
    "\n",
    "</ol>   "
   ]
  },
  {
   "cell_type": "code",
   "execution_count": 2,
   "id": "8f09ddc1",
   "metadata": {},
   "outputs": [],
   "source": [
    "def degree_rv(dist, gamma=None, a=None, beta=None, mean_k=None, N=None):\n",
    "    if dist == 'sf':\n",
    "        assert gamma is not None, \"gamma must be specified for SF distribution\"\n",
    "        assert a is not None, \"mu must be specified for SF distribution\"\n",
    "        return genpareto.rvs(c = 1/(gamma-1), scale=a/(gamma-1), loc=a)\n",
    "    elif dist == 'binom':\n",
    "        assert mean_k is not None, \"mean_k must be specified for binom distribution\"\n",
    "        assert N is not None, \"N must be specified for binom distribution\"\n",
    "        return np.random.binomial(n=N, p=mean_k/N)\n",
    "    elif dist == 'exp':\n",
    "        assert beta is not None, \"N must be specified for binom distribution\"\n",
    "        return np.random.exponential(scale=beta)"
   ]
  },
  {
   "cell_type": "markdown",
   "id": "36208ac6",
   "metadata": {},
   "source": [
    "- Stress:   $$s = |y - y^*| = |b^Tx - y^*|$$\n",
    "- Mismatch:\n",
    "$$\\mathcal{M}(s) = \\frac{\\mathcal{M}_0}{2}\\left[1 + \\tanh\\left(\\frac{s - \\epsilon}{\\mu}\\right)\\right]$$"
   ]
  },
  {
   "cell_type": "code",
   "execution_count": 3,
   "id": "e04ebed1",
   "metadata": {},
   "outputs": [],
   "source": [
    "def stress(b, x,target = 0):\n",
    "    return np.abs(np.dot(b,x) - target)\n",
    "                  \n",
    "def Mismatch(s, M_0, mu, eps):\n",
    "    return (M_0/2) * (1 + np.tanh((s - eps)/mu))"
   ]
  },
  {
   "cell_type": "markdown",
   "id": "5be6dc56",
   "metadata": {},
   "source": [
    "## Run trial:\n",
    "- Initialize $b \\sim \\mathcal{N}(m_b, \\frac{1}{g_0^2 c N}\\alpha)$\n",
    "- Initialize $J_0$"
   ]
  },
  {
   "cell_type": "code",
   "execution_count": 4,
   "id": "6c432d1e",
   "metadata": {},
   "outputs": [],
   "source": [
    "def init_b(N = 1500, c = 0.2, alpha = 100.0, g_0 = 10.0, m_b = 0.0):\n",
    "    b = np.zeros(N,)\n",
    "    cN=int(np.round(N*c)) #number of non-zeroes \n",
    "    idxs = np.random.permutation(range(N))[:cN] #choose cN indicies out of N at random \n",
    "    g_b = (1/g_0)*np.sqrt(alpha/cN);\n",
    "    b[idxs] = m_b + g_b*np.random.randn(cN)\n",
    "    \n",
    "    return b\n",
    "\n",
    "def init_J(T, g_0=10):\n",
    "    active_idxs = np.where(T!=0) #the only connections to update\n",
    "    N_W_n_z = np.sum(T) # number of active connections\n",
    "    avg_k = np.sum(T,1).mean() # average connectivity <K>\n",
    "    \n",
    "    W_int = np.zeros_like(T,dtype=np.float)\n",
    "    W_int[active_idxs] = (g_0/np.sqrt(avg_k))*np.random.randn(N_W_n_z,)\n",
    "    return W_int\n",
    "\n",
    "def F(J, x):\n",
    "    return np.dot(J, np.tanh(x)) - x\n",
    "\n"
   ]
  },
  {
   "cell_type": "code",
   "execution_count": 5,
   "id": "de59ee3e",
   "metadata": {},
   "outputs": [],
   "source": [
    "def run_trial(T, x_0 = None, W_0=None,  N=1500, g_0=10, b_alpha=100, m_b =0, sparsity=0.2, g_w=10, target=0, D=1e-3, eps=3, mu=0.01, M_0=4, t_int=0, t_max=2000, dt=0.1, T_stop=100, tol=1e-2):\n",
    "    \"\"\"\n",
    "    run dynamics for a given ensemble \n",
    "  \n",
    "    Parameters:\n",
    "    T: NXN adjacency matrix for a predefined ensemble\n",
    "    N: network size\n",
    "    g_0: matrix gain for the vector b initialization\n",
    "    b_alpha: parameter determining the scale of phenotype fluctuations\n",
    "    m_b: mean of b[i]\n",
    "    sparsity (c): fraction of non-zero elements in b\n",
    "    g_w:matrix gain for J initilization\n",
    "    target: y*\n",
    "    D: The amplitude of the random walk\n",
    "    eps,mu,M_0: parameters for the Mismatch function\n",
    "    t_int: initial time for the simluation\n",
    "    dt: the step-size for the dynamics\n",
    "    t_max: if network does not converge end simulation at t=t_max\n",
    "    T_stop: if network output y~y* for T_stop time units, then network converged.\n",
    "    tol: Ms(|y-y*|)< tol is regarded as success to converge\n",
    "\n",
    "    Returns:\n",
    "    is_success: 1 if converged, 0 otherwise.\n",
    "  \n",
    "    \"\"\"\n",
    "    \n",
    "    \n",
    "    # initialize b\n",
    "    b = init_b(N=N, alpha=b_alpha, g_0=g_0,m_b=m_b)\n",
    "    \n",
    "    \n",
    "    # initialize J\n",
    "    if W_0 is not None:\n",
    "        W_rec = W_0\n",
    "    else:\n",
    "        W_rec = init_J(T,g_0)\n",
    "        \n",
    "        \n",
    "\n",
    "    \n",
    "    #active indicies (used for updating weights)\n",
    "    N_W_n_z = np.sum(T)\n",
    "    active_idxs = np.where(T!=0)\n",
    "    \n",
    "    # trial params\n",
    "    T_sim = round(t_max/dt)+1;\n",
    "\n",
    "    s = np.zeros((T_sim,)) #Will hold stress at all timesteps (not essensial)\n",
    "    M_s = np.zeros((T_sim,)) #Will hold mismatch function at all timesteps - useful for stopping creterion\n",
    "    is_sucess = 0 #will be set to 1 in case the network converges\n",
    "    \n",
    "    \n",
    "    # initialize x\n",
    "    X = np.zeros((T_sim,N))\n",
    "    if x_0 is not None:\n",
    "        X[0] = x_0\n",
    "    else:\n",
    "        X[0] = 10 *np.random.randn(N)\n",
    "        \n",
    "    #run trial\n",
    "    for i in range(T_sim-1):\n",
    "        # calculate mismatch\n",
    "        s[i] = stress(b, X[i], target=0)\n",
    "        M_s[i] = Mismatch(s[i], M_0, mu, eps)\n",
    "        \n",
    "        #run dynamics\n",
    "        X[i+1] = X[i] + dt*F(W_rec,X[i])#(np.dot(W_rec,np.tanh(X[i])) - X[i])\n",
    "        \n",
    "        # update weights - EA\n",
    "        delta = np.sqrt(M_s[i]*dt*D)*np.random.randn(N_W_n_z,)\n",
    "        W_rec[active_idxs] = W_rec[active_idxs] + delta\n",
    "        \n",
    "        #stopping creterion:\n",
    "        if i*dt> T_stop:\n",
    "            if ~np.any(M_s[i-int((T_stop/dt)):i] > tol):\n",
    "                is_sucess = 1\n",
    "                break\n",
    "    \n",
    "    return is_sucess, X, i+1"
   ]
  },
  {
   "cell_type": "markdown",
   "id": "3f1b5b2f",
   "metadata": {},
   "source": [
    "# Calcuate CF for different ensembles:\n",
    "- Mismatch function parameters: $\\mathcal{M}_0 =4,~ \\epsilon=3,~ \\mu = 0.01$\n",
    "- dynamics parameters: $D = 10^{-3},~ dt =0.1,~ tol = 10^{-2}$\n",
    "- target: $y^* = 0$\n",
    "- Recurrent weights initilzation $J$: $g_w = 10$\n",
    "- readout weights initialization $b$: $g_0 = 10,~ c=0.2,~ \\alpha=100$\n"
   ]
  },
  {
   "cell_type": "code",
   "execution_count": 3,
   "id": "b930485f",
   "metadata": {},
   "outputs": [],
   "source": [
    "#params for first figure\n",
    "# dist params\n",
    "gamma, a = 2.4,1\n",
    "mean_k, beta = 3.5, 3.5\n",
    "\n",
    "# output\n",
    "target = 0\n",
    "\n",
    "# connectivity params\n",
    "N=1500\n",
    "g_0 = 10\n",
    "g_w = 10\n",
    "\n",
    "# optimizer params\n",
    "D = 1e-3\n",
    "\n",
    "#Mismatch function parameters:\n",
    "eps = 3 #epsilon tolerance of stress -  if the stress is below eps_s it is zero or very low\n",
    "mu = 0.01 #steepness (mu) of f(s) in its sigmoidal form M(s)=2a(1-tanh((s-eps)/mu))\n",
    "M_0 = 4;  #stauration value (a) of f(s) in its sigmoidal form M(s)=(a/2)(1-tanh((s-eps)/mu))"
   ]
  },
  {
   "cell_type": "code",
   "execution_count": 6,
   "id": "780de942",
   "metadata": {
    "collapsed": true
   },
   "outputs": [
    {
     "data": {
      "text/plain": [
       "[('sf', 'sf'),\n",
       " ('sf', 'binom'),\n",
       " ('sf', 'exp'),\n",
       " ('binom', 'sf'),\n",
       " ('binom', 'binom'),\n",
       " ('binom', 'exp'),\n",
       " ('exp', 'sf'),\n",
       " ('exp', 'binom'),\n",
       " ('exp', 'exp')]"
      ]
     },
     "execution_count": 6,
     "metadata": {},
     "output_type": "execute_result"
    }
   ],
   "source": [
    "dists = ['sf','binom','exp']\n",
    "all_combinations = [each_permutation for each_permutation in itertools.product(dists, dists)]\n",
    "all_combinations"
   ]
  },
  {
   "cell_type": "code",
   "execution_count": null,
   "id": "14473572",
   "metadata": {},
   "outputs": [],
   "source": [
    " for t,f_index in enumerate(np.linspace(sim_idx, sim_idx/2, 10).astype(int)):\n",
    "            d[i,9 - t] = comp_d(X,f_index,max(f_index - 1000,0))"
   ]
  },
  {
   "cell_type": "code",
   "execution_count": null,
   "id": "7889f890",
   "metadata": {
    "scrolled": true
   },
   "outputs": [
    {
     "name": "stderr",
     "output_type": "stream",
     "text": [
      "100%|█████████████████████████████████████████| 100/100 [12:23<00:00,  7.43s/it]\n"
     ]
    },
    {
     "name": "stdout",
     "output_type": "stream",
     "text": [
      "sf sf 0.65 5.589706517244509\n"
     ]
    },
    {
     "name": "stderr",
     "output_type": "stream",
     "text": [
      "100%|███████████████████████████████████████| 100/100 [1:38:15<00:00, 58.96s/it]\n"
     ]
    },
    {
     "name": "stdout",
     "output_type": "stream",
     "text": [
      "sf binom 0.64 4.97715668777402\n"
     ]
    },
    {
     "name": "stderr",
     "output_type": "stream",
     "text": [
      "100%|█████████████████████████████████████████| 100/100 [44:32<00:00, 26.72s/it]\n"
     ]
    },
    {
     "name": "stdout",
     "output_type": "stream",
     "text": [
      "sf exp 0.85 5.051340637042823\n"
     ]
    },
    {
     "name": "stderr",
     "output_type": "stream",
     "text": [
      "100%|██████████████████████████████████████| 100/100 [8:49:39<00:00, 317.80s/it]\n"
     ]
    },
    {
     "name": "stdout",
     "output_type": "stream",
     "text": [
      "binom sf 0.02 19.460095112321696\n"
     ]
    },
    {
     "name": "stderr",
     "output_type": "stream",
     "text": [
      "100%|██████████████████████████████████████| 100/100 [3:07:38<00:00, 112.59s/it]\n"
     ]
    },
    {
     "name": "stdout",
     "output_type": "stream",
     "text": [
      "binom binom 0.0 45.26226211109217\n"
     ]
    },
    {
     "name": "stderr",
     "output_type": "stream",
     "text": [
      "  5%|██                                      | 5/100 [08:18<3:35:06, 135.86s/it]"
     ]
    }
   ],
   "source": [
    "n_trials = 100\n",
    "CF = {} #Convergence fraction for each ensemble\n",
    "PR = {} # Participation Ratio for each ensemble\n",
    "for (out_dist, in_dist) in all_combinations:\n",
    "\n",
    "    tot_s = 0\n",
    "    d = np.zeros((n_trials,))\n",
    "    for i in tqdm(range(n_trials)):\n",
    "        g = random_graph(N, deg_sampler=lambda:(degree_rv(dist=in_dist,gamma=gamma,beta=beta, a=a,mean_k=mean_k,N=N)\n",
    "                                            ,degree_rv(dist=out_dist,gamma=gamma,beta=beta, a=a,mean_k=mean_k,N=N)))\n",
    "    #topology matrix\n",
    "        T = np.array(adjacency(g).todense()).astype(np.uint)\n",
    "        is_s,X,sim_idx = run_trial(T)\n",
    "        tot_s += is_s\n",
    "        d[i] = comp_d(X,sim_idx)\n",
    "    CF[(out_dist, in_dist)] = tot_s/n_trials\n",
    "    PR[(out_dist, in_dist)] = d\n",
    "    print(out_dist, in_dist, tot_s/n_trials, np.mean(d))\n",
    "    "
   ]
  },
  {
   "cell_type": "code",
   "execution_count": 389,
   "id": "659f50fb",
   "metadata": {},
   "outputs": [],
   "source": [
    "def run_dynamics(T, N=1500, g_0=10, b_alpha=100, m_b =0, sparsity=0.2, target=0, eps=3, mu=0.01, M_0=2, t_int=0, t_max=2000, dt=0.1):\n",
    "    \"\"\"\n",
    "    run dynamics for a given ensemble ()\n",
    "  \n",
    "    Parameters:\n",
    "    T: NXN adjacency matrix for a predefined ensemble\n",
    "    N: network size\n",
    "    g_0: matrix gain for the vector b initialization\n",
    "    b_alpha: parameter determining the scale of phenotype fluctuations\n",
    "    m_b: mean of b[i]\n",
    "    sparsity (c): fraction of non-zero elements in b\n",
    "    g_w:matrix gain for J initilization\n",
    "    target: y*\n",
    "    D: The amplitude of the random walk\n",
    "    eps,mu,M_0: parameters for the Mismatch function\n",
    "    t_int: initial time for the simluation\n",
    "    dt: the step-size for the dynamics\n",
    "    t_max: if network does not converge end simulation at t=t_max\n",
    "    T_stop: if network output y~y* for T_stop time units, then network converged.\n",
    "    tol: Ms(|y-y*|)< tol is regarded as success to converge\n",
    "\n",
    "    Returns:\n",
    "    is_success: 1 if converged, 0 otherwise.\n",
    "  \n",
    "    \"\"\"\n",
    "    \n",
    "    \n",
    "    # initialize b\n",
    "    b = init_b(N, sparsity, b_alpha, g_0, m_b)\n",
    "    \n",
    "    # initialize J\n",
    "    active_idxs = np.where(T!=0) #the only connections to update\n",
    "    N_W_n_z = np.sum(T) # number of active connections\n",
    "    \n",
    "    W_rec = init_J(T, g_0)\n",
    "    \n",
    "\n",
    "    \n",
    "    # trial params\n",
    "    T_sim = round(t_max/dt)+1;\n",
    "    is_sucess = 0 #will be set to 1 in case the network converges\n",
    "    s = np.zeros((T_sim,)) #Will hold stress at all timesteps (not essensial)\n",
    "    M_s = np.zeros((T_sim,)) #Will hold mismatch function at all timesteps - useful for stopping creterion\n",
    "\n",
    "    \n",
    "        # initialize x\n",
    "    X = np.zeros((T_sim,N))\n",
    "    X[0] = 10 *np.random.randn(N)\n",
    "    #run trial\n",
    "    for i in range(T_sim-1):\n",
    "        s[i] = stress(b, X[i], target=0)\n",
    "        M_s[i] = Mismatch(s[i],M_0, mu, eps)\n",
    "        \n",
    "        X[i+1] = X[i] + dt*F(W_rec,X[i])\n",
    "    \n",
    "    return X,W_int"
   ]
  },
  {
   "cell_type": "code",
   "execution_count": 350,
   "id": "2c21d0f4",
   "metadata": {},
   "outputs": [
    {
     "data": {
      "text/plain": [
       "Text(0, 0.5, 'Particioation Ratio d')"
      ]
     },
     "execution_count": 350,
     "metadata": {},
     "output_type": "execute_result"
    },
    {
     "data": {
      "image/png": "[encoded data removed]",
      "text/plain": [
       "<Figure size 864x864 with 1 Axes>"
      ]
     },
     "metadata": {
      "needs_background": "light"
     },
     "output_type": "display_data"
    }
   ],
   "source": [
    "fig, ax = plt.subplots(figsize = (12,12))\n",
    "df = pd.DataFrame(D)\n",
    "ax.boxplot(df,labels=df.columns);\n",
    "ax.set_ylabel('Particioation Ratio d')\n",
    "#ax = pd.DataFrame(D).boxplot()"
   ]
  },
  {
   "cell_type": "code",
   "execution_count": 352,
   "id": "e1ce1687",
   "metadata": {},
   "outputs": [
    {
     "data": {
      "text/plain": [
       "[<matplotlib.lines.Line2D at 0x1de100160>,\n",
       " <matplotlib.lines.Line2D at 0x1de1001c0>]"
      ]
     },
     "execution_count": 352,
     "metadata": {},
     "output_type": "execute_result"
    },
    {
     "data": {
      "image/png": "[encoded data removed]",
      "text/plain": [
       "<Figure size 432x288 with 1 Axes>"
      ]
     },
     "metadata": {
      "needs_background": "light"
     },
     "output_type": "display_data"
    }
   ],
   "source": [
    "plt.plot([(CF[k],D[k].mean()) for k in CF.keys()])"
   ]
  },
  {
   "cell_type": "code",
   "execution_count": 175,
   "id": "a11b38a8",
   "metadata": {},
   "outputs": [
    {
     "data": {
      "text/plain": [
       "Text(0, 0.5, 'Particioation Ratio d')"
      ]
     },
     "execution_count": 175,
     "metadata": {},
     "output_type": "execute_result"
    },
    {
     "data": {
      "image/png": "[encoded data removed]",
      "text/plain": [
       "<Figure size 864x864 with 1 Axes>"
      ]
     },
     "metadata": {
      "needs_background": "light"
     },
     "output_type": "display_data"
    }
   ],
   "source": [
    "fig, ax = plt.subplots(figsize = (12,12))\n",
    "df = pd.DataFrame(D)\n",
    "ax.boxplot(df,labels=v);\n",
    "ax.set_ylabel('Particioation Ratio d')\n",
    "#ax = pd.DataFrame(D).boxplot()"
   ]
  },
  {
   "cell_type": "markdown",
   "id": "a2206715",
   "metadata": {},
   "source": [
    "## Check correlation between participation ratio and convergence fraction\n",
    "- run Dynamics without modifying the connecticity \n",
    "- calculate participation ratio \n",
    "- use same ensemble and initial conditions ($x_0, J_0$) and compute CF."
   ]
  },
  {
   "cell_type": "code",
   "execution_count": 416,
   "id": "d3797aa0",
   "metadata": {},
   "outputs": [],
   "source": [
    "in_dist, out_dist = 'binom', 'sf'\n",
    "g = random_graph(N, deg_sampler=lambda:(degree_rv(dist=in_dist,gamma=gamma,beta=beta, a=a,mean_k=mean_k,N=N)\n",
    "                                            ,degree_rv(dist=out_dist,gamma=gamma,beta=beta, a=a,mean_k=mean_k,N=N)))\n",
    "#topology matrix\n",
    "T = np.array(adjacency(g).todense()).astype(np.uint)\n",
    "res_cf,res_d = {},{}\n",
    "for i in range(20):\n",
    "    X,W_0 = run_dynamics(T) # run dynamics without modifying J, returns X[t] and J_0\n",
    "    d = comp_d(X,idx) # compute PR\n",
    "    # calculate CF \n",
    "    is_s_l = []\n",
    "    ds = []\n",
    "    for i in range(20):\n",
    "        is_, Y,sim_idx = run_trial(T,x_0=X[0],W_0=W_0) #use similar initial conditions \n",
    "        d2 = comp_d(Y,sim_idx)\n",
    "        ds.append(d2)\n",
    "        is_s_l.append(is_)\n",
    "    res_cf[d] = is_s_l\n",
    "    res_d[d] = ds"
   ]
  },
  {
   "cell_type": "code",
   "execution_count": 419,
   "id": "49691d89",
   "metadata": {
    "collapsed": true
   },
   "outputs": [
    {
     "data": {
      "text/plain": [
       "{5.037033873685642: [11.002534561000418,\n",
       "  7.94948977102333,\n",
       "  6.201790841656616,\n",
       "  7.48560657597205,\n",
       "  3.744098062932751,\n",
       "  4.425053654495461,\n",
       "  5.787449912459824,\n",
       "  3.7957978066860516,\n",
       "  8.406564513090167,\n",
       "  8.27695264511078,\n",
       "  7.999121630873088,\n",
       "  8.803103326747763,\n",
       "  4.154529693477914,\n",
       "  2.4804742113158937,\n",
       "  2.8749261483722086,\n",
       "  1.5595037097856845,\n",
       "  3.0370151631597126,\n",
       "  5.781360276067527,\n",
       "  5.787353872659378,\n",
       "  4.122914457477062],\n",
       " 5.478559647726411: [11.637698679940968,\n",
       "  10.212238548837751,\n",
       "  10.740095572391466,\n",
       "  6.473502587866671,\n",
       "  6.042052010843326,\n",
       "  5.6938271508395975,\n",
       "  4.477269887573203,\n",
       "  5.038282860630083,\n",
       "  9.601211092124972,\n",
       "  5.529198097463706,\n",
       "  8.396262472022505,\n",
       "  7.384904813960935,\n",
       "  3.6246031244572507,\n",
       "  5.926230025501106,\n",
       "  3.4592237214029264,\n",
       "  4.049049103583348,\n",
       "  5.9484715953722,\n",
       "  5.794173659089819,\n",
       "  4.237902528306891,\n",
       "  5.151331663169983],\n",
       " 4.6858061954658154: [8.030449440764635,\n",
       "  5.339829083095894,\n",
       "  5.328810118648098,\n",
       "  4.541800981678411,\n",
       "  2.241797716989427,\n",
       "  3.2625051983990407,\n",
       "  5.273004030188949,\n",
       "  3.7988653961932264,\n",
       "  5.981691923904442,\n",
       "  4.536572585476169,\n",
       "  4.657569759036344,\n",
       "  5.814604345773993,\n",
       "  9.613345987019825,\n",
       "  7.3637207334446035,\n",
       "  2.3707790627830447,\n",
       "  3.4475241157274534,\n",
       "  7.270501789061545,\n",
       "  7.544186685456425,\n",
       "  4.061165877150983,\n",
       "  3.6163181546059326],\n",
       " 4.1387115258788265: [7.571880084571737,\n",
       "  5.821148517812835,\n",
       "  3.204811925495775,\n",
       "  5.522696769146693,\n",
       "  8.845778373636653,\n",
       "  6.603012338108724,\n",
       "  5.393121037275017,\n",
       "  1.6859138937529519,\n",
       "  5.4053157859812115,\n",
       "  3.481359001658536,\n",
       "  3.535827395680943,\n",
       "  5.65219551088691,\n",
       "  5.990076316071305,\n",
       "  4.973963748494794,\n",
       "  2.7738151507672915,\n",
       "  2.703601916836007,\n",
       "  6.978481893777143,\n",
       "  4.240054313278342,\n",
       "  2.6831505735388785,\n",
       "  10.568845268732145],\n",
       " 2.415684200339416: [3.6412857896438653,\n",
       "  5.137922823178322,\n",
       "  6.525473454120111,\n",
       "  5.296754448440735,\n",
       "  3.670463134742886,\n",
       "  4.1742660649914045,\n",
       "  3.4360651833965674,\n",
       "  6.348458622683032,\n",
       "  2.0865288993705553,\n",
       "  2.295142020666428,\n",
       "  3.8619989565207664,\n",
       "  2.2187137330962385,\n",
       "  2.2140944411309085,\n",
       "  3.8021281588838765,\n",
       "  5.517382018209412,\n",
       "  4.346181177145251,\n",
       "  5.7862962963480395,\n",
       "  2.9567076945291437,\n",
       "  4.873483084550614,\n",
       "  6.294610433338237],\n",
       " 5.361755984982819: [6.480184721094793,\n",
       "  5.335603518435254,\n",
       "  6.757899738608859,\n",
       "  3.115110724434889,\n",
       "  9.985024640316055,\n",
       "  6.639821182999921,\n",
       "  5.41139129171599,\n",
       "  10.38453849637136,\n",
       "  10.143975314411147,\n",
       "  7.20399644201684,\n",
       "  5.263686067058016,\n",
       "  6.694025774459608,\n",
       "  5.876668428686104,\n",
       "  5.353770486415598,\n",
       "  7.67687410867538,\n",
       "  6.454509624331753,\n",
       "  8.429116725860023,\n",
       "  8.2787194708704,\n",
       "  8.257121577178905,\n",
       "  9.700019929640725],\n",
       " 5.651684903934063: [5.207204330050662,\n",
       "  5.71600934702399,\n",
       "  5.447924667193385,\n",
       "  3.8941478952147737,\n",
       "  5.913710315163174,\n",
       "  10.189053028348178,\n",
       "  5.71677593462191,\n",
       "  3.5689011221910865,\n",
       "  3.7519234960496943,\n",
       "  4.518413224030207,\n",
       "  4.619667067821459,\n",
       "  3.8702065224689997,\n",
       "  5.762263463924706,\n",
       "  2.9061959757975373,\n",
       "  2.4682484737162382,\n",
       "  2.27868604553079,\n",
       "  4.9867313111219795,\n",
       "  3.804925615251775,\n",
       "  4.7796290108236255,\n",
       "  2.5356508335019594],\n",
       " 1.9334745520064678: [2.6501137238625208,\n",
       "  1.8882614497733348,\n",
       "  2.128986789140288,\n",
       "  4.7620303801984765,\n",
       "  7.183059883541662,\n",
       "  6.897830131865811,\n",
       "  6.906520011630923,\n",
       "  2.225130257727971,\n",
       "  2.3802008441378586,\n",
       "  2.5983148886128746,\n",
       "  3.238817751801573,\n",
       "  6.125749588905494,\n",
       "  4.4442667834759835,\n",
       "  3.725607100563755,\n",
       "  2.7454665121083828,\n",
       "  2.5491119499653134,\n",
       "  2.499118364967359,\n",
       "  3.8876158362066433,\n",
       "  3.484803007314527,\n",
       "  3.6745807879905663],\n",
       " 5.341767723170125: [3.9199422732030276,\n",
       "  3.3190166886686083,\n",
       "  7.503646480427055,\n",
       "  8.390061323845103,\n",
       "  5.6996556993575345,\n",
       "  2.6844491166382407,\n",
       "  5.521841925961143,\n",
       "  6.119854835439608,\n",
       "  4.978249799491524,\n",
       "  4.569399510310473,\n",
       "  4.559103404824629,\n",
       "  4.838925613029527,\n",
       "  2.313456316111471,\n",
       "  3.6592667487244954,\n",
       "  9.871352837912797,\n",
       "  5.105562013355548,\n",
       "  10.420175166611294,\n",
       "  8.862628310097195,\n",
       "  8.056112196212476,\n",
       "  7.368686723576146],\n",
       " 4.55021747602068: [7.030377987467305,\n",
       "  8.208718191092412,\n",
       "  3.9219174993079795,\n",
       "  4.788288043004529,\n",
       "  3.3925793925542327,\n",
       "  3.8754632937789544,\n",
       "  7.282692608147873,\n",
       "  7.749789345344566,\n",
       "  6.95006023999616,\n",
       "  7.008257188419394,\n",
       "  7.785643931662931,\n",
       "  9.239330103836465,\n",
       "  2.717182627461418,\n",
       "  10.500799673439491,\n",
       "  5.315383631058801,\n",
       "  4.153436774665401,\n",
       "  1.4082928967023152,\n",
       "  4.9540559585849,\n",
       "  6.465607474888069,\n",
       "  2.3479305097641068],\n",
       " 2.578127872643904: [6.414130690886671,\n",
       "  7.548860040297232,\n",
       "  8.14915034091772,\n",
       "  4.924568581683161,\n",
       "  3.435843527299914,\n",
       "  2.7531902598099283,\n",
       "  3.1774943434542173,\n",
       "  4.0764671603222435,\n",
       "  5.341648905131023,\n",
       "  9.64818023091786,\n",
       "  6.991957523445676,\n",
       "  5.815958769052013,\n",
       "  7.035490923901437,\n",
       "  4.200918745702177,\n",
       "  5.050052588903023,\n",
       "  2.1444229538347463,\n",
       "  4.271291760736967,\n",
       "  8.041035621237755,\n",
       "  5.962092457125455,\n",
       "  8.540378980359211],\n",
       " 3.8112670254242884: [1.9214852593952843,\n",
       "  3.051875837446854,\n",
       "  2.2031215084303937,\n",
       "  7.280285161503078,\n",
       "  10.195187509831504,\n",
       "  7.98297604478034,\n",
       "  8.277018018013328,\n",
       "  5.303499184101001,\n",
       "  3.9896082209019683,\n",
       "  5.448441884966693,\n",
       "  4.275203907977688,\n",
       "  6.866173210594298,\n",
       "  4.934591085534315,\n",
       "  3.5939920524941864,\n",
       "  9.026074320943756,\n",
       "  9.274622122916485,\n",
       "  6.762231784937389,\n",
       "  3.9062329714017556,\n",
       "  5.117069066709697,\n",
       "  6.3943943220620865],\n",
       " 2.4012262221244653: [6.8947885166826595,\n",
       "  4.756633825918109,\n",
       "  11.524452822378986,\n",
       "  8.356892455077983,\n",
       "  10.222142539139192,\n",
       "  11.04229781719183,\n",
       "  6.197691926833342,\n",
       "  10.620492588699465,\n",
       "  9.492090619620875,\n",
       "  6.918947868026795,\n",
       "  6.515885579291115,\n",
       "  7.855508134403909,\n",
       "  5.837620752890908,\n",
       "  7.796278920362393,\n",
       "  6.862592369067612,\n",
       "  7.997102453188221,\n",
       "  5.081683355951264,\n",
       "  2.9408513824075073,\n",
       "  10.404478264667057,\n",
       "  7.630484503588208],\n",
       " 3.417841994243714: [5.005695311673467,\n",
       "  5.259730232543876,\n",
       "  5.941166975721794,\n",
       "  5.458262609392499,\n",
       "  5.081611342378257,\n",
       "  4.090846811759628,\n",
       "  5.423478578946723,\n",
       "  2.09094881788142,\n",
       "  6.598406210307604,\n",
       "  4.362414117503117,\n",
       "  5.36995199641844,\n",
       "  3.716912170120591,\n",
       "  5.541102042625317,\n",
       "  3.929892871831526,\n",
       "  10.395613777582431,\n",
       "  12.836982243137038,\n",
       "  9.04873312678064,\n",
       "  10.537651645364086,\n",
       "  11.45121834272046,\n",
       "  6.33613095107704],\n",
       " 2.736084794132313: [8.056160431394694,\n",
       "  9.579946294808526,\n",
       "  5.45763452244781,\n",
       "  6.546152156784854,\n",
       "  2.62983333628386,\n",
       "  2.5227574184502446,\n",
       "  2.652132578348615,\n",
       "  8.072460263522876,\n",
       "  1.7302494157411354,\n",
       "  7.565896434337052,\n",
       "  5.749731803643574,\n",
       "  8.911413264080634,\n",
       "  9.125526173300472,\n",
       "  11.300809113021199,\n",
       "  8.17755828140785,\n",
       "  8.685286468075075,\n",
       "  9.300162774160212,\n",
       "  6.971567839774061,\n",
       "  4.397898289375799,\n",
       "  4.480837059045534],\n",
       " 7.251013233910765: [8.988851511609216,\n",
       "  8.700552348737645,\n",
       "  7.318675532826618,\n",
       "  6.216009809935622,\n",
       "  5.289488074995118,\n",
       "  1.8328640688337074,\n",
       "  2.2814347969646693,\n",
       "  8.11955452339166,\n",
       "  1.9597326135015538,\n",
       "  2.258281445912472,\n",
       "  7.334134948749611,\n",
       "  5.187845337411363,\n",
       "  7.70673402955419,\n",
       "  3.4324228521485582,\n",
       "  4.1983902904220605,\n",
       "  7.777260209512708,\n",
       "  6.040250861414296,\n",
       "  4.5215955003699575,\n",
       "  1.3747072658506545,\n",
       "  1.5925111597003017],\n",
       " 6.75113553820146: [9.14760360738286,\n",
       "  6.505313664814073,\n",
       "  5.3307895833094365,\n",
       "  5.706858131323313,\n",
       "  7.045712082711387,\n",
       "  6.858695320410664,\n",
       "  4.904189041406748,\n",
       "  10.216531062061085,\n",
       "  16.152102295945447,\n",
       "  9.892545564143285,\n",
       "  4.35762189284233,\n",
       "  6.3630765238927065,\n",
       "  6.79276518103957,\n",
       "  9.848539069846108,\n",
       "  8.431405026785045,\n",
       "  4.0207892774966885,\n",
       "  2.986110248846463,\n",
       "  8.3950018534537,\n",
       "  6.71366898108513,\n",
       "  7.220498692500417],\n",
       " 3.0883521849483975: [9.853878497576272,\n",
       "  4.408981706168171,\n",
       "  6.135908078314847,\n",
       "  6.131106482837471,\n",
       "  5.166967121842416,\n",
       "  10.875832197700703,\n",
       "  11.333767237906178,\n",
       "  9.001623822908938,\n",
       "  7.939117983239956,\n",
       "  8.370656826477038,\n",
       "  6.61380939554899,\n",
       "  4.007546369646793,\n",
       "  8.54781084102947,\n",
       "  8.378865493493953,\n",
       "  10.375123110304745,\n",
       "  7.237727535089707,\n",
       "  4.42731612075889,\n",
       "  6.198650358369252,\n",
       "  2.4773200622177574,\n",
       "  2.5924489193244735],\n",
       " 4.000606925800481: [7.471619451273126,\n",
       "  11.24388082448312,\n",
       "  7.99764462129266,\n",
       "  3.4312106378921796,\n",
       "  7.619172124624459,\n",
       "  7.046184202499385,\n",
       "  5.984656984240488,\n",
       "  6.1505188834978135,\n",
       "  4.152535098689892,\n",
       "  4.855683901883201,\n",
       "  6.217104219787953,\n",
       "  3.518972897620247,\n",
       "  2.4161167163806057,\n",
       "  7.516117657405206,\n",
       "  8.086985994584488,\n",
       "  4.652722027154,\n",
       "  5.98364065664951,\n",
       "  5.6912500655112455,\n",
       "  5.494675967946166,\n",
       "  6.923415674719769],\n",
       " 3.582765665482274: [8.63357647998981,\n",
       "  2.562958908970895,\n",
       "  8.259582178287843,\n",
       "  3.405152132880413,\n",
       "  5.848946415021431,\n",
       "  6.336111454028871,\n",
       "  6.1693853900196824,\n",
       "  4.0642579275606545,\n",
       "  6.204309684246961,\n",
       "  2.55278892868572,\n",
       "  7.045031579000781,\n",
       "  5.421999166580264,\n",
       "  7.076121939360102,\n",
       "  4.648508708594333,\n",
       "  3.5262154439299165,\n",
       "  2.2275424676804505,\n",
       "  5.669626911597102,\n",
       "  5.731301165700864,\n",
       "  4.6118717014268045,\n",
       "  7.129277449467724]}"
      ]
     },
     "execution_count": 419,
     "metadata": {},
     "output_type": "execute_result"
    }
   ],
   "source": [
    "res_d"
   ]
  },
  {
   "cell_type": "code",
   "execution_count": 420,
   "id": "1a4c3b0b",
   "metadata": {
    "collapsed": true
   },
   "outputs": [
    {
     "data": {
      "text/plain": [
       "{5.037033873685642: 5.6837820417181835,\n",
       " 5.478559647726411: 6.470876459768935,\n",
       " 4.6858061954658154: 5.204752149269922,\n",
       " 4.1387115258788265: 5.181752490775194,\n",
       " 2.415684200339416: 4.2241978217493195,\n",
       " 5.361755984982819: 7.172102913179081,\n",
       " 5.651684903934063: 4.596813383992307,\n",
       " 1.9334745520064678: 3.799779302189566,\n",
       " 5.341767723170125: 5.888069349189895,\n",
       " 4.55021747602068: 5.754790368558867,\n",
       " 2.578127872643904: 5.676156720250921,\n",
       " 3.8112670254242884: 5.790204173747105,\n",
       " 2.4012262221244653: 7.747445834769373,\n",
       " 3.417841994243714: 6.423837508788298,\n",
       " 2.736084794132313: 6.595700695900204,\n",
       " 7.251013233910765: 5.106564859092099,\n",
       " 6.75113553820146: 7.344490855064824,\n",
       " 3.0883521849483975: 7.003722908037801,\n",
       " 4.000606925800481: 6.122705430406775,\n",
       " 3.582765665482274: 5.356228301651532}"
      ]
     },
     "execution_count": 420,
     "metadata": {},
     "output_type": "execute_result"
    }
   ],
   "source": [
    "{k:np.mean(v) for k,v in res_d.items()}"
   ]
  },
  {
   "cell_type": "markdown",
   "id": "332a30f8",
   "metadata": {},
   "source": [
    "## TODO Check change in connectivity:\n",
    "- $\\Delta W = W_T - W_0$\n",
    "- Compute rank (use SVD), and change in spectrom"
   ]
  },
  {
   "cell_type": "code",
   "execution_count": 319,
   "id": "d829b064",
   "metadata": {},
   "outputs": [
    {
     "data": {
      "text/plain": [
       "<matplotlib.collections.PathCollection at 0x1dd0209d0>"
      ]
     },
     "execution_count": 319,
     "metadata": {},
     "output_type": "execute_result"
    },
    {
     "data": {
      "image/png": "[encoded data removed]",
      "text/plain": [
       "<Figure size 432x288 with 1 Axes>"
      ]
     },
     "metadata": {
      "needs_background": "light"
     },
     "output_type": "display_data"
    }
   ],
   "source": [
    "lambda_0 = np.linalg.eigvals(W_0)\n",
    "plt.scatter(np.real(lambda_0),np.imag(lambda_0))"
   ]
  },
  {
   "cell_type": "code",
   "execution_count": 323,
   "id": "d84d2775",
   "metadata": {},
   "outputs": [
    {
     "data": {
      "text/plain": [
       "0.484"
      ]
     },
     "execution_count": 323,
     "metadata": {},
     "output_type": "execute_result"
    }
   ],
   "source": [
    "np.mean(lambda_T > 0)"
   ]
  },
  {
   "cell_type": "code",
   "execution_count": 324,
   "id": "548001cf",
   "metadata": {},
   "outputs": [],
   "source": [
    "dW = W_T-W_0"
   ]
  },
  {
   "cell_type": "code",
   "execution_count": 325,
   "id": "becb1194",
   "metadata": {},
   "outputs": [
    {
     "data": {
      "text/plain": [
       "<matplotlib.collections.PathCollection at 0x1dd4a4610>"
      ]
     },
     "execution_count": 325,
     "metadata": {},
     "output_type": "execute_result"
    },
    {
     "data": {
      "image/png": "[encoded data removed]",
      "text/plain": [
       "<Figure size 432x288 with 1 Axes>"
      ]
     },
     "metadata": {
      "needs_background": "light"
     },
     "output_type": "display_data"
    }
   ],
   "source": [
    "lambda_T = np.linalg.eigvals(dW)\n",
    "plt.scatter(np.real(lambda_T),np.imag(lambda_T))"
   ]
  },
  {
   "cell_type": "code",
   "execution_count": 315,
   "id": "c40b9645",
   "metadata": {},
   "outputs": [
    {
     "data": {
      "text/plain": [
       "<matplotlib.collections.PathCollection at 0x1dcfc3f40>"
      ]
     },
     "execution_count": 315,
     "metadata": {},
     "output_type": "execute_result"
    },
    {
     "data": {
      "image/png": "[encoded data removed]",
      "text/plain": [
       "<Figure size 432x288 with 1 Axes>"
      ]
     },
     "metadata": {
      "needs_background": "light"
     },
     "output_type": "display_data"
    }
   ],
   "source": [
    "x = np.linalg.eigvals(W_rec)\n",
    "plt.scatter(np.real(x),np.imag(x))"
   ]
  },
  {
   "cell_type": "markdown",
   "id": "5ab05e3a",
   "metadata": {},
   "source": [
    "## Exploratory adaptation on hubs connection\n",
    "- alter only connections out of the top k hubs\n",
    "- add self loops to top k hubs, alter only these connections (total k connections)"
   ]
  },
  {
   "cell_type": "code",
   "execution_count": 340,
   "id": "6112da08",
   "metadata": {},
   "outputs": [],
   "source": [
    "def run_trial_hub(T,top_k=1, N=1500, g_0=10, b_alpha=100, m_b =0, sparsity=0.2, g_w=10, target=0, D=1e-3, eps=3, mu=0.01, M_0=2, t_int=0, t_max=2000, dt=0.1, T_stop=100, tol=1e-2):\n",
    "    \"\"\"\n",
    "    run dynamics for a given ensemble \n",
    "  \n",
    "    Parameters:\n",
    "    T: NXN adjacency matrix for a predefined ensemble\n",
    "    N: network size\n",
    "    g_0: matrix gain for the vector b initialization\n",
    "    b_alpha: parameter determining the scale of phenotype fluctuations\n",
    "    m_b: mean of b[i]\n",
    "    sparsity (c): fraction of non-zero elements in b\n",
    "    g_w:matrix gain for J initilization\n",
    "    target: y*\n",
    "    D: The amplitude of the random walk\n",
    "    eps,mu,M_0: parameters for the Mismatch function\n",
    "    t_int: initial time for the simluation\n",
    "    dt: the step-size for the dynamics\n",
    "    t_max: if network does not converge end simulation at t=t_max\n",
    "    T_stop: if network output y~y* for T_stop time units, then network converged.\n",
    "    tol: Ms(|y-y*|)< tol is regarded as success to converge\n",
    "\n",
    "    Returns:\n",
    "    is_success: 1 if converged, 0 otherwise.\n",
    "  \n",
    "    \"\"\"\n",
    "    \n",
    "    \n",
    "    # initialize b\n",
    "    b = np.zeros(N,)\n",
    "    n=int(np.round(N*sparsity))\n",
    "    idxs = np.random.permutation(range(N))[:n]\n",
    "    g_b = (1/g_0)*np.sqrt(b_alpha/n);\n",
    "    b[idxs] = m_b + g_b*np.random.randn(n)\n",
    "    \n",
    "    # initialize J\n",
    "    active_idxs = np.where(T!=0) #the only connections to update\n",
    "    N_W_n_z = np.sum(T) # number of active connections\n",
    "    avg_k = np.sum(T,1).mean() # average connectivity\n",
    "    W_int = np.zeros((N,N))\n",
    "    W_int[active_idxs] = (g_w/np.sqrt(avg_k))*np.random.randn(N_W_n_z,)\n",
    "    W_rec = W_int.copy()\n",
    "    \n",
    "    \n",
    "    \n",
    "    idxs_from_hub = np.where(T[:,idx_hub]!=0)[0]\n",
    "    tot_N_z = len(idxs_from_hub)\n",
    "    # trial params\n",
    "    T_sim = round(t_max/dt)+1;\n",
    "    is_sucess = 0 #will be set to 1 in case the network converges\n",
    "    s = np.zeros((T_sim,)) #Will hold stress at all timesteps (not essensial)\n",
    "    M_s = np.zeros((T_sim,)) #Will hold mismatch function at all timesteps - useful for stopping creterion\n",
    "    #X_z = X - X.mean()\n",
    "    #C = X_z.dot(X_z.T)\n",
    "    \n",
    "        # initialize x\n",
    "    X = np.zeros((T_sim,N))\n",
    "    X[0] = 10 *np.random.randn(N)\n",
    "    #run trial\n",
    "    for i in range(T_sim-1):\n",
    "        s[i] = stress(b, X[i], target=0)\n",
    "        M_s[i] = 2*(1 + np.tanh((s[i] - eps)/mu))\n",
    "        \n",
    "        X[i+1] = X[i] + dt*(np.dot(W_rec,np.tanh(X[i])) - X[i])\n",
    "        #X_z = X - X.mean()\n",
    "        #C += X_z.dot(X_z.T)\n",
    "        delta = np.sqrt(M_s[i]*dt*D)*np.random.randn(tot_N_z,)\n",
    "        W_rec[idxs_from_hub,idx_hub] = W_rec[idxs_from_hub,idx_hub] + delta\n",
    "        \n",
    "        if i*dt> T_stop:\n",
    "            if ~np.any(M_s[i-int((T_stop/dt)):i] > tol):\n",
    "                is_sucess = 1\n",
    "                break\n",
    "    \n",
    "    #d = np.trace(C)**2/np.trace(C.dot(C))\n",
    "    return is_sucess, X, i+1 "
   ]
  },
  {
   "cell_type": "code",
   "execution_count": null,
   "id": "181b848b",
   "metadata": {},
   "outputs": [],
   "source": [
    "# def run_trial(T, N=1500, g_0=10, b_alpha=100, m_b =0, sparsity=0.2, g_w=10, target=0, D=1e-3, eps=3, mu=0.01, M_0=2, t_int=0, t_max=2000, dt=0.1, T_stop=100, tol=1e-2):\n",
    "#     \"\"\"\n",
    "#     run dynamics for a given ensemble \n",
    "  \n",
    "#     Parameters:\n",
    "#     T: NXN adjacency matrix for a predefined ensemble\n",
    "#     N: network size\n",
    "#     g_0: matrix gain for the vector b initialization\n",
    "#     b_alpha: parameter determining the scale of phenotype fluctuations\n",
    "#     m_b: mean of b[i]\n",
    "#     sparsity (c): fraction of non-zero elements in b\n",
    "#     g_w:matrix gain for J initilization\n",
    "#     target: y*\n",
    "#     D: The amplitude of the random walk\n",
    "#     eps,mu,M_0: parameters for the Mismatch function\n",
    "#     t_int: initial time for the simluation\n",
    "#     dt: the step-size for the dynamics\n",
    "#     t_max: if network does not converge end simulation at t=t_max\n",
    "#     T_stop: if network output y~y* for T_stop time units, then network converged.\n",
    "#     tol: Ms(|y-y*|)< tol is regarded as success to converge\n",
    "\n",
    "#     Returns:\n",
    "#     is_success: 1 if converged, 0 otherwise.\n",
    "  \n",
    "#     \"\"\"\n",
    "    \n",
    "    \n",
    "#     # initialize b\n",
    "#     b = jnp.zeros(N,)\n",
    "#     n=int(jnp.round(N*sparsity))\n",
    "#     idxs = random.permutation(key,jnp.arange(N))[:n]\n",
    "#     g_b = (1/g_0)*jnp.sqrt(b_alpha/n);\n",
    "#     b = jax.ops.index_update(b,idxs,m_b g_b*jax.random.normal(key, shape=(n,)))\n",
    "\n",
    "    \n",
    "#     # initialize J\n",
    "#     #active_idxs = np.where(T!=0) #the only connections to update\n",
    "#     N_W_n_z = jnp.sum(T) # number of active connections\n",
    "#     avg_k = np.sum(T,1).mean() # average connectivity\n",
    "#     J = (g_w/np.sqrt(avg_k))* jax.random.normal(key, shape = T.shape)\n",
    "#     J = J*T\n",
    "    \n",
    "#     # initialize x\n",
    "#     X = 10*jax.random.normal(key, shape=(N,))\n",
    "    \n",
    "#     # trial params\n",
    "#     T_sim = round(t_max/dt)+1;\n",
    "#     is_sucess = 0 #will be set to 1 in case the network converges\n",
    "#     s = jnp.zeros((T_sim,)) #Will hold stress at all timesteps (not essensial)\n",
    "#     M_s = jnp.zeros((T_sim,)) #Will hold mismatch function at all timesteps - useful for stopping creterion\n",
    "#     C = \n",
    "#     #run trial\n",
    "#     for i in range(T_sim-1):\n",
    "#         s = jax.ops.index_update(s, i, stress(b, X, target=0))\n",
    "#         M_s = jax.ops.index_update(M_s,i, M(s[i]))\n",
    "        \n",
    "#         X = X + dt*F(J,X)\n",
    "#         delta = np.sqrt(M_s[i]*dt*D)*jax.random.normal(key=key, shape=(T.shape)) * I\n",
    "#         J += delta\n",
    "        \n",
    "#         if i*dt> T_stop:\n",
    "#             if ~jnp.any(M_s[i-int((T_stop/dt)):i] > tol):\n",
    "#                 is_sucess = 1\n",
    "#                 break\n",
    "#     return is_sucess"
   ]
  }
 ],
 "metadata": {
  "kernelspec": {
   "display_name": "Python 3 (ipykernel)",
   "language": "python",
   "name": "python3"
  },
  "language_info": {
   "codemirror_mode": {
    "name": "ipython",
    "version": 3
   },
   "file_extension": ".py",
   "mimetype": "text/x-python",
   "name": "python",
   "nbconvert_exporter": "python",
   "pygments_lexer": "ipython3",
   "version": "3.9.7"
  }
 },
 "nbformat": 4,
 "nbformat_minor": 5
}
