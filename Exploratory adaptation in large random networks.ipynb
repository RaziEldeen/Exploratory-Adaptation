{
 "cells": [
  {
   "cell_type": "code",
   "execution_count": 1,
   "id": "b522a209",
   "metadata": {},
   "outputs": [],
   "source": [
    "import jax\n",
    "import pandas as pd"
   ]
  },
  {
   "cell_type": "code",
   "execution_count": 2,
   "id": "30a28430",
   "metadata": {},
   "outputs": [],
   "source": [
    "import jax.numpy as jnp\n",
    "from jax import jit, random, grad"
   ]
  },
  {
   "cell_type": "code",
   "execution_count": 3,
   "id": "ff17e6bd",
   "metadata": {},
   "outputs": [],
   "source": [
    "from scipy.stats import genpareto,genexpon\n",
    "import numpy as np\n",
    "import matplotlib.pyplot as plt\n",
    "from graph_tool.generation import random_graph\n",
    "from graph_tool.spectral import adjacency\n",
    "import itertools"
   ]
  },
  {
   "cell_type": "markdown",
   "id": "77c684bc",
   "metadata": {},
   "source": [
    "## Random number generators:\n",
    "<ol>\n",
    "    <li> <strong>SF distribution</strong>: obtained by discretization to the nearest integer of the continuous Pareto distribution\n",
    "$P(K) = \\frac{(\\gamma - 1)a^{\\gamma -1}}{K^\\gamma}$ \n",
    "which we get using the Generalized pareto distribution $$P(K) = \\frac{1}{\\sigma}\\left(1 + \\frac{\\xi(K - \\mu)}{\\sigma}\\right)^{\\left(-\\frac{1}{\\xi} - 1\\right)} \\stackrel{*}{=}  \\frac{(\\gamma - 1)a^{\\gamma -1}}{K^\\gamma}$$\n",
    "$*\\text{ by setting } \\xi = \\frac{1}{\\gamma -1},~ \\sigma = \\frac{a}{\\gamma -1}, \\mu = a$\n",
    "\n",
    "    \n",
    "which can be generated using `scipy.stats.genpareto(c=1/(gamma-1), scale=a/(gamma-1), loc=a)`\n",
    "\n",
    "the average connectivity $<K>$ can be calculate theoritically $\\mathbb{E}\\left[K\\right] = \\mu + \\frac{\\sigma}{1-\\xi} \\stackrel{*}{=} \\frac{a}{\\gamma -2}$</li>\n",
    "    \n",
    "  <li><strong>Binomial distribution</strong>: parametrized by the average connectivity $<K>$ we generate from $K \\sim B(N, \\frac{<k>}{N})$ \n",
    "      \n",
    "which can be generated using `numpy.random.binomial(n=N, p=mean_k/N)`\n",
    "      \n",
    "</li>\n",
    "  <li><strong>Exponential distribution</strong>: obtained by discretization to the nearest integer of the continuous Exponential distribution $P(k) = \\frac{1}{\\beta} \\exp(-\\frac{k}{\\beta})$</li>\n",
    "    \n",
    "which can be generated using `numpy.random.exponential(scale=beta)`\n",
    "\n",
    "</ol>   "
   ]
  },
  {
   "cell_type": "code",
   "execution_count": 4,
   "id": "8f09ddc1",
   "metadata": {},
   "outputs": [],
   "source": [
    "def degree_rv(dist, gamma=None, a=None, beta=None, mean_k=None, N=None):\n",
    "    if dist == 'sf':\n",
    "        assert gamma is not None, \"gamma must be specified for SF distribution\"\n",
    "        assert a is not None, \"mu must be specified for SF distribution\"\n",
    "        return genpareto.rvs(c = 1/(gamma-1), scale=a/(gamma-1), loc=a)\n",
    "    elif dist == 'binom':\n",
    "        assert mean_k is not None, \"mean_k must be specified for binom distribution\"\n",
    "        assert N is not None, \"N must be specified for binom distribution\"\n",
    "        return np.random.binomial(n=N, p=mean_k/N)\n",
    "    elif dist == 'exp':\n",
    "        assert beta is not None, \"N must be specified for binom distribution\"\n",
    "        return np.random.exponential(scale=beta)"
   ]
  },
  {
   "cell_type": "markdown",
   "id": "36208ac6",
   "metadata": {},
   "source": [
    "- Stress:   $$s = |y - y^*| = |b^Tx - y^*|$$\n",
    "- Mismatch:\n",
    "$$\\mathcal{M}(s) = \\frac{\\mathcal{M}_0}{2}\\left[1 + \\tanh\\left(\\frac{s - \\epsilon}{\\mu}\\right)\\right]$$"
   ]
  },
  {
   "cell_type": "code",
   "execution_count": 59,
   "id": "e04ebed1",
   "metadata": {},
   "outputs": [],
   "source": [
    "def stress(b, x,target = 0):\n",
    "    return np.abs(np.dot(b,x) - target)\n",
    "                  \n",
    "def M(s, M_0, mu, eps):\n",
    "    return (M_0/2) * (1 + np.tanh((s - eps)/mu))"
   ]
  },
  {
   "cell_type": "markdown",
   "id": "3f1b5b2f",
   "metadata": {},
   "source": [
    "# Calcuate CF for different ensembles (T fixed):\n",
    "- Mismatch function parameters: $\\mathcal{M}_0 =4,~ \\epsilon=3,~ \\mu = 0.01$\n",
    "- dynamics parameters: $D = 10^{-3},~ dt =0.1,~ tol = 10^{-2}$\n",
    "- target: $y^* = 0$\n",
    "- Recurrent weights initilzation $J$: $g_w = 10$\n",
    "- readout weights initialization $b$: $g_0 = 10,~ c=0.2,~ \\alpha=100$\n"
   ]
  },
  {
   "cell_type": "code",
   "execution_count": 6,
   "id": "b930485f",
   "metadata": {},
   "outputs": [],
   "source": [
    "#params for first figure\n",
    "# dist params\n",
    "gamma, a = 2.4,1\n",
    "mean_k, beta = 3.5, 3.5\n",
    "\n",
    "# output\n",
    "target = 0\n",
    "\n",
    "# connectivity params\n",
    "N=1500\n",
    "g_0 = 10\n",
    "g_w = 10\n",
    "\n",
    "# optimizer params\n",
    "D = 1e-3\n",
    "\n",
    "#Mismatch function parameters:\n",
    "eps = 3 #epsilon tolerance of stress -  if the stress is below eps_s it is zero or very low\n",
    "mu = 0.01 #steepness (mu) of f(s) in its sigmoidal form M(s)=2a(1-tanh((s-eps)/mu))\n",
    "M_0 = 2;  #stauration value (a) of f(s) in its sigmoidal form M(s)=2a(1-tanh((s-eps)/mu))"
   ]
  },
  {
   "cell_type": "code",
   "execution_count": 7,
   "id": "780de942",
   "metadata": {},
   "outputs": [
    {
     "data": {
      "text/plain": [
       "[('sf', 'exp'),\n",
       " ('binom', 'sf'),\n",
       " ('binom', 'binom'),\n",
       " ('binom', 'exp'),\n",
       " ('exp', 'sf'),\n",
       " ('exp', 'binom'),\n",
       " ('exp', 'exp')]"
      ]
     },
     "execution_count": 7,
     "metadata": {},
     "output_type": "execute_result"
    }
   ],
   "source": [
    "dists = ['sf','binom','exp']\n",
    "all_combinations = [each_permutation for each_permutation in itertools.product(dists, dists)]\n",
    "all_combinations[2:]"
   ]
  },
  {
   "cell_type": "code",
   "execution_count": 346,
   "id": "7889f890",
   "metadata": {
    "collapsed": true
   },
   "outputs": [
    {
     "name": "stdout",
     "output_type": "stream",
     "text": [
      "sf sf 0.88 4.931677940818095\n",
      "sf binom 0.68 4.9329980381378\n",
      "sf exp 0.64 5.281372418691434\n",
      "binom sf 0.1 18.835187839340932\n",
      "binom binom 0.0 45.3497998486994\n"
     ]
    },
    {
     "ename": "KeyboardInterrupt",
     "evalue": "",
     "output_type": "error",
     "traceback": [
      "\u001b[0;31m---------------------------------------------------------------------------\u001b[0m",
      "\u001b[0;31mKeyboardInterrupt\u001b[0m                         Traceback (most recent call last)",
      "\u001b[0;32m/var/folders/tr/_q_8102j4vs9md0z9mn20kw00000gn/T/ipykernel_71921/1364828102.py\u001b[0m in \u001b[0;36m<module>\u001b[0;34m\u001b[0m\n\u001b[1;32m     13\u001b[0m     \u001b[0md\u001b[0m \u001b[0;34m=\u001b[0m \u001b[0mnp\u001b[0m\u001b[0;34m.\u001b[0m\u001b[0mzeros\u001b[0m\u001b[0;34m(\u001b[0m\u001b[0;34m(\u001b[0m\u001b[0mn_trials\u001b[0m\u001b[0;34m,\u001b[0m\u001b[0;34m)\u001b[0m\u001b[0;34m)\u001b[0m\u001b[0;34m\u001b[0m\u001b[0;34m\u001b[0m\u001b[0m\n\u001b[1;32m     14\u001b[0m     \u001b[0;32mfor\u001b[0m \u001b[0mi\u001b[0m \u001b[0;32min\u001b[0m \u001b[0mrange\u001b[0m\u001b[0;34m(\u001b[0m\u001b[0mn_trials\u001b[0m\u001b[0;34m)\u001b[0m\u001b[0;34m:\u001b[0m\u001b[0;34m\u001b[0m\u001b[0;34m\u001b[0m\u001b[0m\n\u001b[0;32m---> 15\u001b[0;31m         g = random_graph(N, deg_sampler=lambda:(degree_rv(dist=in_dist,gamma=gamma,beta=beta, a=a,mean_k=mean_k,N=N)\n\u001b[0m\u001b[1;32m     16\u001b[0m                                             ,degree_rv(dist=out_dist,gamma=gamma,beta=beta, a=a,mean_k=mean_k,N=N)))\n\u001b[1;32m     17\u001b[0m     \u001b[0;31m#topology matrix\u001b[0m\u001b[0;34m\u001b[0m\u001b[0;34m\u001b[0m\u001b[0m\n",
      "\u001b[0;32m/usr/local/Caskroom/miniforge/base/envs/env_86/lib/python3.9/site-packages/graph_tool/generation/__init__.py\u001b[0m in \u001b[0;36mrandom_graph\u001b[0;34m(N, deg_sampler, directed, parallel_edges, self_loops, block_membership, block_type, degree_block, random, verbose, **kwargs)\u001b[0m\n\u001b[1;32m    392\u001b[0m                                  str(k))\n\u001b[1;32m    393\u001b[0m \u001b[0;34m\u001b[0m\u001b[0m\n\u001b[0;32m--> 394\u001b[0;31m     libgraph_tool_generation.gen_graph(g._Graph__graph, N, sampler_wrap,\n\u001b[0m\u001b[1;32m    395\u001b[0m                                        \u001b[0;32mnot\u001b[0m \u001b[0mparallel_edges\u001b[0m\u001b[0;34m,\u001b[0m\u001b[0;34m\u001b[0m\u001b[0;34m\u001b[0m\u001b[0m\n\u001b[1;32m    396\u001b[0m                                        \u001b[0;32mnot\u001b[0m \u001b[0mself_loops\u001b[0m\u001b[0;34m,\u001b[0m \u001b[0;32mnot\u001b[0m \u001b[0mdirected\u001b[0m\u001b[0;34m,\u001b[0m\u001b[0;34m\u001b[0m\u001b[0;34m\u001b[0m\u001b[0m\n",
      "\u001b[0;32m/usr/local/Caskroom/miniforge/base/envs/env_86/lib/python3.9/site-packages/graph_tool/generation/__init__.py\u001b[0m in \u001b[0;36msampler_wrap\u001b[0;34m(*args)\u001b[0m\n\u001b[1;32m    385\u001b[0m     \u001b[0;32melse\u001b[0m\u001b[0;34m:\u001b[0m\u001b[0;34m\u001b[0m\u001b[0;34m\u001b[0m\u001b[0m\n\u001b[1;32m    386\u001b[0m         \u001b[0;32mdef\u001b[0m \u001b[0msampler_wrap\u001b[0m\u001b[0;34m(\u001b[0m\u001b[0;34m*\u001b[0m\u001b[0margs\u001b[0m\u001b[0;34m)\u001b[0m\u001b[0;34m:\u001b[0m\u001b[0;34m\u001b[0m\u001b[0;34m\u001b[0m\u001b[0m\n\u001b[0;32m--> 387\u001b[0;31m             \u001b[0mk\u001b[0m \u001b[0;34m=\u001b[0m \u001b[0msampler\u001b[0m\u001b[0;34m(\u001b[0m\u001b[0;34m*\u001b[0m\u001b[0margs\u001b[0m\u001b[0;34m)\u001b[0m\u001b[0;34m\u001b[0m\u001b[0;34m\u001b[0m\u001b[0m\n\u001b[0m\u001b[1;32m    388\u001b[0m             \u001b[0;32mtry\u001b[0m\u001b[0;34m:\u001b[0m\u001b[0;34m\u001b[0m\u001b[0;34m\u001b[0m\u001b[0m\n\u001b[1;32m    389\u001b[0m                 \u001b[0;32mreturn\u001b[0m \u001b[0mint\u001b[0m\u001b[0;34m(\u001b[0m\u001b[0mk\u001b[0m\u001b[0;34m[\u001b[0m\u001b[0;36m0\u001b[0m\u001b[0;34m]\u001b[0m\u001b[0;34m)\u001b[0m\u001b[0;34m,\u001b[0m \u001b[0mint\u001b[0m\u001b[0;34m(\u001b[0m\u001b[0mk\u001b[0m\u001b[0;34m[\u001b[0m\u001b[0;36m1\u001b[0m\u001b[0;34m]\u001b[0m\u001b[0;34m)\u001b[0m\u001b[0;34m\u001b[0m\u001b[0;34m\u001b[0m\u001b[0m\n",
      "\u001b[0;32m/usr/local/Caskroom/miniforge/base/envs/env_86/lib/python3.9/site-packages/graph_tool/generation/__init__.py\u001b[0m in \u001b[0;36m<lambda>\u001b[0;34m(i)\u001b[0m\n\u001b[1;32m    374\u001b[0m             \u001b[0msampler\u001b[0m \u001b[0;34m=\u001b[0m \u001b[0mdeg_sampler\u001b[0m\u001b[0;34m\u001b[0m\u001b[0;34m\u001b[0m\u001b[0m\n\u001b[1;32m    375\u001b[0m     \u001b[0;32melse\u001b[0m\u001b[0;34m:\u001b[0m\u001b[0;34m\u001b[0m\u001b[0;34m\u001b[0m\u001b[0m\n\u001b[0;32m--> 376\u001b[0;31m         \u001b[0msampler\u001b[0m \u001b[0;34m=\u001b[0m \u001b[0;32mlambda\u001b[0m \u001b[0mi\u001b[0m\u001b[0;34m:\u001b[0m \u001b[0mdeg_sampler\u001b[0m\u001b[0;34m(\u001b[0m\u001b[0;34m)\u001b[0m\u001b[0;34m\u001b[0m\u001b[0;34m\u001b[0m\u001b[0m\n\u001b[0m\u001b[1;32m    377\u001b[0m \u001b[0;34m\u001b[0m\u001b[0m\n\u001b[1;32m    378\u001b[0m     \u001b[0;32mif\u001b[0m \u001b[0;32mnot\u001b[0m \u001b[0mdirected\u001b[0m\u001b[0;34m:\u001b[0m\u001b[0;34m\u001b[0m\u001b[0;34m\u001b[0m\u001b[0m\n",
      "\u001b[0;32m/var/folders/tr/_q_8102j4vs9md0z9mn20kw00000gn/T/ipykernel_71921/1364828102.py\u001b[0m in \u001b[0;36m<lambda>\u001b[0;34m()\u001b[0m\n\u001b[1;32m     14\u001b[0m     \u001b[0;32mfor\u001b[0m \u001b[0mi\u001b[0m \u001b[0;32min\u001b[0m \u001b[0mrange\u001b[0m\u001b[0;34m(\u001b[0m\u001b[0mn_trials\u001b[0m\u001b[0;34m)\u001b[0m\u001b[0;34m:\u001b[0m\u001b[0;34m\u001b[0m\u001b[0;34m\u001b[0m\u001b[0m\n\u001b[1;32m     15\u001b[0m         g = random_graph(N, deg_sampler=lambda:(degree_rv(dist=in_dist,gamma=gamma,beta=beta, a=a,mean_k=mean_k,N=N)\n\u001b[0;32m---> 16\u001b[0;31m                                             ,degree_rv(dist=out_dist,gamma=gamma,beta=beta, a=a,mean_k=mean_k,N=N)))\n\u001b[0m\u001b[1;32m     17\u001b[0m     \u001b[0;31m#topology matrix\u001b[0m\u001b[0;34m\u001b[0m\u001b[0;34m\u001b[0m\u001b[0m\n\u001b[1;32m     18\u001b[0m         \u001b[0mT\u001b[0m \u001b[0;34m=\u001b[0m \u001b[0mnp\u001b[0m\u001b[0;34m.\u001b[0m\u001b[0marray\u001b[0m\u001b[0;34m(\u001b[0m\u001b[0madjacency\u001b[0m\u001b[0;34m(\u001b[0m\u001b[0mg\u001b[0m\u001b[0;34m)\u001b[0m\u001b[0;34m.\u001b[0m\u001b[0mtodense\u001b[0m\u001b[0;34m(\u001b[0m\u001b[0;34m)\u001b[0m\u001b[0;34m)\u001b[0m\u001b[0;34m.\u001b[0m\u001b[0mastype\u001b[0m\u001b[0;34m(\u001b[0m\u001b[0mnp\u001b[0m\u001b[0;34m.\u001b[0m\u001b[0muint\u001b[0m\u001b[0;34m)\u001b[0m\u001b[0;34m\u001b[0m\u001b[0;34m\u001b[0m\u001b[0m\n",
      "\u001b[0;32m/var/folders/tr/_q_8102j4vs9md0z9mn20kw00000gn/T/ipykernel_71921/3293878387.py\u001b[0m in \u001b[0;36mdegree_rv\u001b[0;34m(dist, gamma, a, beta, mean_k, N)\u001b[0m\n\u001b[1;32m      7\u001b[0m         \u001b[0;32massert\u001b[0m \u001b[0mmean_k\u001b[0m \u001b[0;32mis\u001b[0m \u001b[0;32mnot\u001b[0m \u001b[0;32mNone\u001b[0m\u001b[0;34m,\u001b[0m \u001b[0;34m\"mean_k must be specified for binom distribution\"\u001b[0m\u001b[0;34m\u001b[0m\u001b[0;34m\u001b[0m\u001b[0m\n\u001b[1;32m      8\u001b[0m         \u001b[0;32massert\u001b[0m \u001b[0mN\u001b[0m \u001b[0;32mis\u001b[0m \u001b[0;32mnot\u001b[0m \u001b[0;32mNone\u001b[0m\u001b[0;34m,\u001b[0m \u001b[0;34m\"N must be specified for binom distribution\"\u001b[0m\u001b[0;34m\u001b[0m\u001b[0;34m\u001b[0m\u001b[0m\n\u001b[0;32m----> 9\u001b[0;31m         \u001b[0;32mreturn\u001b[0m \u001b[0mnp\u001b[0m\u001b[0;34m.\u001b[0m\u001b[0mrandom\u001b[0m\u001b[0;34m.\u001b[0m\u001b[0mbinomial\u001b[0m\u001b[0;34m(\u001b[0m\u001b[0mn\u001b[0m\u001b[0;34m=\u001b[0m\u001b[0mN\u001b[0m\u001b[0;34m,\u001b[0m \u001b[0mp\u001b[0m\u001b[0;34m=\u001b[0m\u001b[0mmean_k\u001b[0m\u001b[0;34m/\u001b[0m\u001b[0mN\u001b[0m\u001b[0;34m)\u001b[0m\u001b[0;34m\u001b[0m\u001b[0;34m\u001b[0m\u001b[0m\n\u001b[0m\u001b[1;32m     10\u001b[0m     \u001b[0;32melif\u001b[0m \u001b[0mdist\u001b[0m \u001b[0;34m==\u001b[0m \u001b[0;34m'exp'\u001b[0m\u001b[0;34m:\u001b[0m\u001b[0;34m\u001b[0m\u001b[0;34m\u001b[0m\u001b[0m\n\u001b[1;32m     11\u001b[0m         \u001b[0;32massert\u001b[0m \u001b[0mbeta\u001b[0m \u001b[0;32mis\u001b[0m \u001b[0;32mnot\u001b[0m \u001b[0;32mNone\u001b[0m\u001b[0;34m,\u001b[0m \u001b[0;34m\"N must be specified for binom distribution\"\u001b[0m\u001b[0;34m\u001b[0m\u001b[0;34m\u001b[0m\u001b[0m\n",
      "\u001b[0;31mKeyboardInterrupt\u001b[0m: "
     ]
    }
   ],
   "source": [
    "n_trials = 50\n",
    "dists = ['sf','binom','exp']\n",
    "all_combinations = [each_permutation for each_permutation in itertools.product(dists, dists)]\n",
    "CF = {}\n",
    "D = {}\n",
    "for (out_dist, in_dist) in all_combinations:\n",
    "    #create ensemble using in/out degree distributions:\n",
    "\n",
    "    \n",
    "    ## calculate CF over n_trials per ensemble\n",
    "    \n",
    "    tot_s = 0\n",
    "    d = np.zeros((n_trials,))\n",
    "    for i in range(n_trials):\n",
    "        g = random_graph(N, deg_sampler=lambda:(degree_rv(dist=in_dist,gamma=gamma,beta=beta, a=a,mean_k=mean_k,N=N)\n",
    "                                            ,degree_rv(dist=out_dist,gamma=gamma,beta=beta, a=a,mean_k=mean_k,N=N)))\n",
    "    #topology matrix\n",
    "        T = np.array(adjacency(g).todense()).astype(np.uint)\n",
    "        is_s,X,sim_idx = run_trial(T)\n",
    "        tot_s += is_s\n",
    "        d[i] = comp_d(X,sim_idx)\n",
    "    CF[(out_dist, in_dist)] = tot_s/n_trials\n",
    "    D[(out_dist, in_dist)] = d\n",
    "    print(out_dist, in_dist, tot_s/n_trials, np.mean(d))"
   ]
  },
  {
   "cell_type": "code",
   "execution_count": 389,
   "id": "659f50fb",
   "metadata": {},
   "outputs": [],
   "source": [
    "def run_dynamics(T, N=1500, g_0=10, b_alpha=100, m_b =0, sparsity=0.2, g_w=10, target=0, D=1e-3, eps=3, mu=0.01, M_0=2, t_int=0, t_max=2000, dt=0.1, T_stop=100, tol=1e-2):\n",
    "    \"\"\"\n",
    "    run dynamics for a given ensemble \n",
    "  \n",
    "    Parameters:\n",
    "    T: NXN adjacency matrix for a predefined ensemble\n",
    "    N: network size\n",
    "    g_0: matrix gain for the vector b initialization\n",
    "    b_alpha: parameter determining the scale of phenotype fluctuations\n",
    "    m_b: mean of b[i]\n",
    "    sparsity (c): fraction of non-zero elements in b\n",
    "    g_w:matrix gain for J initilization\n",
    "    target: y*\n",
    "    D: The amplitude of the random walk\n",
    "    eps,mu,M_0: parameters for the Mismatch function\n",
    "    t_int: initial time for the simluation\n",
    "    dt: the step-size for the dynamics\n",
    "    t_max: if network does not converge end simulation at t=t_max\n",
    "    T_stop: if network output y~y* for T_stop time units, then network converged.\n",
    "    tol: Ms(|y-y*|)< tol is regarded as success to converge\n",
    "\n",
    "    Returns:\n",
    "    is_success: 1 if converged, 0 otherwise.\n",
    "  \n",
    "    \"\"\"\n",
    "    \n",
    "    \n",
    "    # initialize b\n",
    "    b = np.zeros(N,)\n",
    "    n=int(np.round(N*sparsity))\n",
    "    idxs = np.random.permutation(range(N))[:n]\n",
    "    g_b = (1/g_0)*np.sqrt(b_alpha/n);\n",
    "    b[idxs] = m_b + g_b*np.random.randn(n)\n",
    "    \n",
    "    # initialize J\n",
    "    active_idxs = np.where(T!=0) #the only connections to update\n",
    "    N_W_n_z = np.sum(T) # number of active connections\n",
    "    avg_k = np.sum(T,1).mean() # average connectivity\n",
    "    W_int = np.zeros((N,N))\n",
    "    W_int[active_idxs] = (g_w/np.sqrt(avg_k))*np.random.randn(N_W_n_z,)\n",
    "    W_rec = W_int.copy()\n",
    "    \n",
    "\n",
    "    \n",
    "    # trial params\n",
    "    T_sim = round(t_max/dt)+1;\n",
    "    is_sucess = 0 #will be set to 1 in case the network converges\n",
    "    s = np.zeros((T_sim,)) #Will hold stress at all timesteps (not essensial)\n",
    "    M_s = np.zeros((T_sim,)) #Will hold mismatch function at all timesteps - useful for stopping creterion\n",
    "    #X_z = X - X.mean()\n",
    "    #C = X_z.dot(X_z.T)\n",
    "    \n",
    "        # initialize x\n",
    "    X = np.zeros((T_sim,N))\n",
    "    X[0] = 10 *np.random.randn(N)\n",
    "    #run trial\n",
    "    for i in range(T_sim-1):\n",
    "        s[i] = stress(b, X[i], target=0)\n",
    "        M_s[i] = 2*(1 + np.tanh((s[i] - eps)/mu))\n",
    "        \n",
    "        X[i+1] = X[i] + dt*(np.dot(W_rec,np.tanh(X[i])) - X[i])\n",
    "        #X_z = X - X.mean()\n",
    "        #C += X_z.dot(X_z.T)\n",
    "        #delta = np.sqrt(M_s[i]*dt*D)*np.random.randn(N_W_n_z,)\n",
    "        #W_rec[active_idxs] = W_rec[active_idxs] + delta\n",
    "        \n",
    "        #if i*dt> T_stop:\n",
    "         #   if ~np.any(M_s[i-int((T_stop/dt)):i] > tol):\n",
    "          #      is_sucess = 1\n",
    "           #     break\n",
    "    \n",
    "    #d = np.trace(C)**2/np.trace(C.dot(C))\n",
    "    return X,W_int"
   ]
  },
  {
   "cell_type": "code",
   "execution_count": 364,
   "id": "b20fcdfb",
   "metadata": {},
   "outputs": [
    {
     "data": {
      "text/plain": [
       "32.427188076484086"
      ]
     },
     "execution_count": 364,
     "metadata": {},
     "output_type": "execute_result"
    }
   ],
   "source": [
    "comp_d(np.random.randn(1500,100),50)"
   ]
  },
  {
   "cell_type": "code",
   "execution_count": 350,
   "id": "2c21d0f4",
   "metadata": {},
   "outputs": [
    {
     "data": {
      "text/plain": [
       "Text(0, 0.5, 'Particioation Ratio d')"
      ]
     },
     "execution_count": 350,
     "metadata": {},
     "output_type": "execute_result"
    },
    {
     "data": {
      "image/png": "[encoded data removed]",
      "text/plain": [
       "<Figure size 864x864 with 1 Axes>"
      ]
     },
     "metadata": {
      "needs_background": "light"
     },
     "output_type": "display_data"
    }
   ],
   "source": [
    "fig, ax = plt.subplots(figsize = (12,12))\n",
    "df = pd.DataFrame(D)\n",
    "ax.boxplot(df,labels=df.columns);\n",
    "ax.set_ylabel('Particioation Ratio d')\n",
    "#ax = pd.DataFrame(D).boxplot()"
   ]
  },
  {
   "cell_type": "code",
   "execution_count": 352,
   "id": "e1ce1687",
   "metadata": {},
   "outputs": [
    {
     "data": {
      "text/plain": [
       "[<matplotlib.lines.Line2D at 0x1de100160>,\n",
       " <matplotlib.lines.Line2D at 0x1de1001c0>]"
      ]
     },
     "execution_count": 352,
     "metadata": {},
     "output_type": "execute_result"
    },
    {
     "data": {
      "image/png": "[encoded data removed]",
      "text/plain": [
       "<Figure size 432x288 with 1 Axes>"
      ]
     },
     "metadata": {
      "needs_background": "light"
     },
     "output_type": "display_data"
    }
   ],
   "source": [
    "plt.plot([(CF[k],D[k].mean()) for k in CF.keys()])"
   ]
  },
  {
   "cell_type": "code",
   "execution_count": 175,
   "id": "a11b38a8",
   "metadata": {},
   "outputs": [
    {
     "data": {
      "text/plain": [
       "Text(0, 0.5, 'Particioation Ratio d')"
      ]
     },
     "execution_count": 175,
     "metadata": {},
     "output_type": "execute_result"
    },
    {
     "data": {
      "image/png": "[encoded data removed]",
      "text/plain": [
       "<Figure size 864x864 with 1 Axes>"
      ]
     },
     "metadata": {
      "needs_background": "light"
     },
     "output_type": "display_data"
    }
   ],
   "source": [
    "fig, ax = plt.subplots(figsize = (12,12))\n",
    "df = pd.DataFrame(D)\n",
    "ax.boxplot(df,labels=v);\n",
    "ax.set_ylabel('Particioation Ratio d')\n",
    "#ax = pd.DataFrame(D).boxplot()"
   ]
  },
  {
   "cell_type": "code",
   "execution_count": 181,
   "id": "34733e95",
   "metadata": {},
   "outputs": [
    {
     "data": {
      "text/plain": [
       "<matplotlib.collections.PathCollection at 0x1dca3ce20>"
      ]
     },
     "execution_count": 181,
     "metadata": {},
     "output_type": "execute_result"
    },
    {
     "data": {
      "image/png": "[encoded data removed]",
      "text/plain": [
       "<Figure size 432x288 with 1 Axes>"
      ]
     },
     "metadata": {
      "needs_background": "light"
     },
     "output_type": "display_data"
    }
   ],
   "source": [
    "plt.scatter(cfs,ds)"
   ]
  },
  {
   "cell_type": "code",
   "execution_count": 432,
   "id": "34bf195d",
   "metadata": {},
   "outputs": [],
   "source": [
    "x0 = np.ones((1500,1))\n",
    "x0[0] = 1"
   ]
  },
  {
   "cell_type": "code",
   "execution_count": 429,
   "id": "03e78c82",
   "metadata": {},
   "outputs": [
    {
     "data": {
      "text/plain": [
       "array([1.])"
      ]
     },
     "execution_count": 429,
     "metadata": {},
     "output_type": "execute_result"
    }
   ],
   "source": [
    "T.dot(x0)[688]"
   ]
  },
  {
   "cell_type": "code",
   "execution_count": 434,
   "id": "381f5915",
   "metadata": {},
   "outputs": [
    {
     "data": {
      "text/plain": [
       "(array([215., 314., 274., 290., 206., 109.,  53.,  20.,  12.,   7.]),\n",
       " array([ 0. ,  1.1,  2.2,  3.3,  4.4,  5.5,  6.6,  7.7,  8.8,  9.9, 11. ]),\n",
       " <BarContainer object of 10 artists>)"
      ]
     },
     "execution_count": 434,
     "metadata": {},
     "output_type": "execute_result"
    },
    {
     "data": {
      "image/png": "[encoded data removed]",
      "text/plain": [
       "<Figure size 432x288 with 1 Axes>"
      ]
     },
     "metadata": {
      "needs_background": "light"
     },
     "output_type": "display_data"
    }
   ],
   "source": [
    "plt.hist(T.dot(x0))"
   ]
  },
  {
   "cell_type": "code",
   "execution_count": 435,
   "id": "3c4db037",
   "metadata": {},
   "outputs": [
    {
     "data": {
      "text/plain": [
       "(array([1.482e+03, 1.000e+01, 2.000e+00, 2.000e+00, 1.000e+00, 1.000e+00,\n",
       "        1.000e+00, 0.000e+00, 0.000e+00, 1.000e+00]),\n",
       " array([  1. ,  33.3,  65.6,  97.9, 130.2, 162.5, 194.8, 227.1, 259.4,\n",
       "        291.7, 324. ]),\n",
       " <BarContainer object of 10 artists>)"
      ]
     },
     "execution_count": 435,
     "metadata": {},
     "output_type": "execute_result"
    },
    {
     "data": {
      "image/png": "[encoded data removed]",
      "text/plain": [
       "<Figure size 432x288 with 1 Axes>"
      ]
     },
     "metadata": {
      "needs_background": "light"
     },
     "output_type": "display_data"
    }
   ],
   "source": [
    "plt.hist(T.T.dot(x0))"
   ]
  },
  {
   "cell_type": "code",
   "execution_count": 416,
   "id": "d3797aa0",
   "metadata": {},
   "outputs": [],
   "source": [
    "in_dist, out_dist = 'binom', 'sf'\n",
    "g = random_graph(N, deg_sampler=lambda:(degree_rv(dist=in_dist,gamma=gamma,beta=beta, a=a,mean_k=mean_k,N=N)\n",
    "                                            ,degree_rv(dist=out_dist,gamma=gamma,beta=beta, a=a,mean_k=mean_k,N=N)))\n",
    "    #topology matrix\n",
    "T = np.array(adjacency(g).todense()).astype(np.uint)\n",
    "res_cf,res_d = {},{}\n",
    "for i in range(20):\n",
    "    X,W_0 = run_dynamics(T)\n",
    "    d = comp_d(X,idx)\n",
    "    is_s_l = []\n",
    "    ds = []\n",
    "    for i in range(20):\n",
    "        is_, Y,sim_idx = run_trial(T,x_0=X[0],W_0=W_0)\n",
    "        d2 = comp_d(Y,sim_idx)\n",
    "        ds.append(d2)\n",
    "        is_s_l.append(is_)\n",
    "    res_cf[d] = is_s_l\n",
    "    res_d[d] = ds\n",
    "# tot_s = 0\n",
    "# for i in range(10):\n",
    "#     is_, X,sim_idx = run_trial(T)\n",
    "#     print(is_,comp_d(X,sim_idx))"
   ]
  },
  {
   "cell_type": "code",
   "execution_count": 419,
   "id": "49691d89",
   "metadata": {},
   "outputs": [
    {
     "data": {
      "text/plain": [
       "{5.037033873685642: [11.002534561000418,\n",
       "  7.94948977102333,\n",
       "  6.201790841656616,\n",
       "  7.48560657597205,\n",
       "  3.744098062932751,\n",
       "  4.425053654495461,\n",
       "  5.787449912459824,\n",
       "  3.7957978066860516,\n",
       "  8.406564513090167,\n",
       "  8.27695264511078,\n",
       "  7.999121630873088,\n",
       "  8.803103326747763,\n",
       "  4.154529693477914,\n",
       "  2.4804742113158937,\n",
       "  2.8749261483722086,\n",
       "  1.5595037097856845,\n",
       "  3.0370151631597126,\n",
       "  5.781360276067527,\n",
       "  5.787353872659378,\n",
       "  4.122914457477062],\n",
       " 5.478559647726411: [11.637698679940968,\n",
       "  10.212238548837751,\n",
       "  10.740095572391466,\n",
       "  6.473502587866671,\n",
       "  6.042052010843326,\n",
       "  5.6938271508395975,\n",
       "  4.477269887573203,\n",
       "  5.038282860630083,\n",
       "  9.601211092124972,\n",
       "  5.529198097463706,\n",
       "  8.396262472022505,\n",
       "  7.384904813960935,\n",
       "  3.6246031244572507,\n",
       "  5.926230025501106,\n",
       "  3.4592237214029264,\n",
       "  4.049049103583348,\n",
       "  5.9484715953722,\n",
       "  5.794173659089819,\n",
       "  4.237902528306891,\n",
       "  5.151331663169983],\n",
       " 4.6858061954658154: [8.030449440764635,\n",
       "  5.339829083095894,\n",
       "  5.328810118648098,\n",
       "  4.541800981678411,\n",
       "  2.241797716989427,\n",
       "  3.2625051983990407,\n",
       "  5.273004030188949,\n",
       "  3.7988653961932264,\n",
       "  5.981691923904442,\n",
       "  4.536572585476169,\n",
       "  4.657569759036344,\n",
       "  5.814604345773993,\n",
       "  9.613345987019825,\n",
       "  7.3637207334446035,\n",
       "  2.3707790627830447,\n",
       "  3.4475241157274534,\n",
       "  7.270501789061545,\n",
       "  7.544186685456425,\n",
       "  4.061165877150983,\n",
       "  3.6163181546059326],\n",
       " 4.1387115258788265: [7.571880084571737,\n",
       "  5.821148517812835,\n",
       "  3.204811925495775,\n",
       "  5.522696769146693,\n",
       "  8.845778373636653,\n",
       "  6.603012338108724,\n",
       "  5.393121037275017,\n",
       "  1.6859138937529519,\n",
       "  5.4053157859812115,\n",
       "  3.481359001658536,\n",
       "  3.535827395680943,\n",
       "  5.65219551088691,\n",
       "  5.990076316071305,\n",
       "  4.973963748494794,\n",
       "  2.7738151507672915,\n",
       "  2.703601916836007,\n",
       "  6.978481893777143,\n",
       "  4.240054313278342,\n",
       "  2.6831505735388785,\n",
       "  10.568845268732145],\n",
       " 2.415684200339416: [3.6412857896438653,\n",
       "  5.137922823178322,\n",
       "  6.525473454120111,\n",
       "  5.296754448440735,\n",
       "  3.670463134742886,\n",
       "  4.1742660649914045,\n",
       "  3.4360651833965674,\n",
       "  6.348458622683032,\n",
       "  2.0865288993705553,\n",
       "  2.295142020666428,\n",
       "  3.8619989565207664,\n",
       "  2.2187137330962385,\n",
       "  2.2140944411309085,\n",
       "  3.8021281588838765,\n",
       "  5.517382018209412,\n",
       "  4.346181177145251,\n",
       "  5.7862962963480395,\n",
       "  2.9567076945291437,\n",
       "  4.873483084550614,\n",
       "  6.294610433338237],\n",
       " 5.361755984982819: [6.480184721094793,\n",
       "  5.335603518435254,\n",
       "  6.757899738608859,\n",
       "  3.115110724434889,\n",
       "  9.985024640316055,\n",
       "  6.639821182999921,\n",
       "  5.41139129171599,\n",
       "  10.38453849637136,\n",
       "  10.143975314411147,\n",
       "  7.20399644201684,\n",
       "  5.263686067058016,\n",
       "  6.694025774459608,\n",
       "  5.876668428686104,\n",
       "  5.353770486415598,\n",
       "  7.67687410867538,\n",
       "  6.454509624331753,\n",
       "  8.429116725860023,\n",
       "  8.2787194708704,\n",
       "  8.257121577178905,\n",
       "  9.700019929640725],\n",
       " 5.651684903934063: [5.207204330050662,\n",
       "  5.71600934702399,\n",
       "  5.447924667193385,\n",
       "  3.8941478952147737,\n",
       "  5.913710315163174,\n",
       "  10.189053028348178,\n",
       "  5.71677593462191,\n",
       "  3.5689011221910865,\n",
       "  3.7519234960496943,\n",
       "  4.518413224030207,\n",
       "  4.619667067821459,\n",
       "  3.8702065224689997,\n",
       "  5.762263463924706,\n",
       "  2.9061959757975373,\n",
       "  2.4682484737162382,\n",
       "  2.27868604553079,\n",
       "  4.9867313111219795,\n",
       "  3.804925615251775,\n",
       "  4.7796290108236255,\n",
       "  2.5356508335019594],\n",
       " 1.9334745520064678: [2.6501137238625208,\n",
       "  1.8882614497733348,\n",
       "  2.128986789140288,\n",
       "  4.7620303801984765,\n",
       "  7.183059883541662,\n",
       "  6.897830131865811,\n",
       "  6.906520011630923,\n",
       "  2.225130257727971,\n",
       "  2.3802008441378586,\n",
       "  2.5983148886128746,\n",
       "  3.238817751801573,\n",
       "  6.125749588905494,\n",
       "  4.4442667834759835,\n",
       "  3.725607100563755,\n",
       "  2.7454665121083828,\n",
       "  2.5491119499653134,\n",
       "  2.499118364967359,\n",
       "  3.8876158362066433,\n",
       "  3.484803007314527,\n",
       "  3.6745807879905663],\n",
       " 5.341767723170125: [3.9199422732030276,\n",
       "  3.3190166886686083,\n",
       "  7.503646480427055,\n",
       "  8.390061323845103,\n",
       "  5.6996556993575345,\n",
       "  2.6844491166382407,\n",
       "  5.521841925961143,\n",
       "  6.119854835439608,\n",
       "  4.978249799491524,\n",
       "  4.569399510310473,\n",
       "  4.559103404824629,\n",
       "  4.838925613029527,\n",
       "  2.313456316111471,\n",
       "  3.6592667487244954,\n",
       "  9.871352837912797,\n",
       "  5.105562013355548,\n",
       "  10.420175166611294,\n",
       "  8.862628310097195,\n",
       "  8.056112196212476,\n",
       "  7.368686723576146],\n",
       " 4.55021747602068: [7.030377987467305,\n",
       "  8.208718191092412,\n",
       "  3.9219174993079795,\n",
       "  4.788288043004529,\n",
       "  3.3925793925542327,\n",
       "  3.8754632937789544,\n",
       "  7.282692608147873,\n",
       "  7.749789345344566,\n",
       "  6.95006023999616,\n",
       "  7.008257188419394,\n",
       "  7.785643931662931,\n",
       "  9.239330103836465,\n",
       "  2.717182627461418,\n",
       "  10.500799673439491,\n",
       "  5.315383631058801,\n",
       "  4.153436774665401,\n",
       "  1.4082928967023152,\n",
       "  4.9540559585849,\n",
       "  6.465607474888069,\n",
       "  2.3479305097641068],\n",
       " 2.578127872643904: [6.414130690886671,\n",
       "  7.548860040297232,\n",
       "  8.14915034091772,\n",
       "  4.924568581683161,\n",
       "  3.435843527299914,\n",
       "  2.7531902598099283,\n",
       "  3.1774943434542173,\n",
       "  4.0764671603222435,\n",
       "  5.341648905131023,\n",
       "  9.64818023091786,\n",
       "  6.991957523445676,\n",
       "  5.815958769052013,\n",
       "  7.035490923901437,\n",
       "  4.200918745702177,\n",
       "  5.050052588903023,\n",
       "  2.1444229538347463,\n",
       "  4.271291760736967,\n",
       "  8.041035621237755,\n",
       "  5.962092457125455,\n",
       "  8.540378980359211],\n",
       " 3.8112670254242884: [1.9214852593952843,\n",
       "  3.051875837446854,\n",
       "  2.2031215084303937,\n",
       "  7.280285161503078,\n",
       "  10.195187509831504,\n",
       "  7.98297604478034,\n",
       "  8.277018018013328,\n",
       "  5.303499184101001,\n",
       "  3.9896082209019683,\n",
       "  5.448441884966693,\n",
       "  4.275203907977688,\n",
       "  6.866173210594298,\n",
       "  4.934591085534315,\n",
       "  3.5939920524941864,\n",
       "  9.026074320943756,\n",
       "  9.274622122916485,\n",
       "  6.762231784937389,\n",
       "  3.9062329714017556,\n",
       "  5.117069066709697,\n",
       "  6.3943943220620865],\n",
       " 2.4012262221244653: [6.8947885166826595,\n",
       "  4.756633825918109,\n",
       "  11.524452822378986,\n",
       "  8.356892455077983,\n",
       "  10.222142539139192,\n",
       "  11.04229781719183,\n",
       "  6.197691926833342,\n",
       "  10.620492588699465,\n",
       "  9.492090619620875,\n",
       "  6.918947868026795,\n",
       "  6.515885579291115,\n",
       "  7.855508134403909,\n",
       "  5.837620752890908,\n",
       "  7.796278920362393,\n",
       "  6.862592369067612,\n",
       "  7.997102453188221,\n",
       "  5.081683355951264,\n",
       "  2.9408513824075073,\n",
       "  10.404478264667057,\n",
       "  7.630484503588208],\n",
       " 3.417841994243714: [5.005695311673467,\n",
       "  5.259730232543876,\n",
       "  5.941166975721794,\n",
       "  5.458262609392499,\n",
       "  5.081611342378257,\n",
       "  4.090846811759628,\n",
       "  5.423478578946723,\n",
       "  2.09094881788142,\n",
       "  6.598406210307604,\n",
       "  4.362414117503117,\n",
       "  5.36995199641844,\n",
       "  3.716912170120591,\n",
       "  5.541102042625317,\n",
       "  3.929892871831526,\n",
       "  10.395613777582431,\n",
       "  12.836982243137038,\n",
       "  9.04873312678064,\n",
       "  10.537651645364086,\n",
       "  11.45121834272046,\n",
       "  6.33613095107704],\n",
       " 2.736084794132313: [8.056160431394694,\n",
       "  9.579946294808526,\n",
       "  5.45763452244781,\n",
       "  6.546152156784854,\n",
       "  2.62983333628386,\n",
       "  2.5227574184502446,\n",
       "  2.652132578348615,\n",
       "  8.072460263522876,\n",
       "  1.7302494157411354,\n",
       "  7.565896434337052,\n",
       "  5.749731803643574,\n",
       "  8.911413264080634,\n",
       "  9.125526173300472,\n",
       "  11.300809113021199,\n",
       "  8.17755828140785,\n",
       "  8.685286468075075,\n",
       "  9.300162774160212,\n",
       "  6.971567839774061,\n",
       "  4.397898289375799,\n",
       "  4.480837059045534],\n",
       " 7.251013233910765: [8.988851511609216,\n",
       "  8.700552348737645,\n",
       "  7.318675532826618,\n",
       "  6.216009809935622,\n",
       "  5.289488074995118,\n",
       "  1.8328640688337074,\n",
       "  2.2814347969646693,\n",
       "  8.11955452339166,\n",
       "  1.9597326135015538,\n",
       "  2.258281445912472,\n",
       "  7.334134948749611,\n",
       "  5.187845337411363,\n",
       "  7.70673402955419,\n",
       "  3.4324228521485582,\n",
       "  4.1983902904220605,\n",
       "  7.777260209512708,\n",
       "  6.040250861414296,\n",
       "  4.5215955003699575,\n",
       "  1.3747072658506545,\n",
       "  1.5925111597003017],\n",
       " 6.75113553820146: [9.14760360738286,\n",
       "  6.505313664814073,\n",
       "  5.3307895833094365,\n",
       "  5.706858131323313,\n",
       "  7.045712082711387,\n",
       "  6.858695320410664,\n",
       "  4.904189041406748,\n",
       "  10.216531062061085,\n",
       "  16.152102295945447,\n",
       "  9.892545564143285,\n",
       "  4.35762189284233,\n",
       "  6.3630765238927065,\n",
       "  6.79276518103957,\n",
       "  9.848539069846108,\n",
       "  8.431405026785045,\n",
       "  4.0207892774966885,\n",
       "  2.986110248846463,\n",
       "  8.3950018534537,\n",
       "  6.71366898108513,\n",
       "  7.220498692500417],\n",
       " 3.0883521849483975: [9.853878497576272,\n",
       "  4.408981706168171,\n",
       "  6.135908078314847,\n",
       "  6.131106482837471,\n",
       "  5.166967121842416,\n",
       "  10.875832197700703,\n",
       "  11.333767237906178,\n",
       "  9.001623822908938,\n",
       "  7.939117983239956,\n",
       "  8.370656826477038,\n",
       "  6.61380939554899,\n",
       "  4.007546369646793,\n",
       "  8.54781084102947,\n",
       "  8.378865493493953,\n",
       "  10.375123110304745,\n",
       "  7.237727535089707,\n",
       "  4.42731612075889,\n",
       "  6.198650358369252,\n",
       "  2.4773200622177574,\n",
       "  2.5924489193244735],\n",
       " 4.000606925800481: [7.471619451273126,\n",
       "  11.24388082448312,\n",
       "  7.99764462129266,\n",
       "  3.4312106378921796,\n",
       "  7.619172124624459,\n",
       "  7.046184202499385,\n",
       "  5.984656984240488,\n",
       "  6.1505188834978135,\n",
       "  4.152535098689892,\n",
       "  4.855683901883201,\n",
       "  6.217104219787953,\n",
       "  3.518972897620247,\n",
       "  2.4161167163806057,\n",
       "  7.516117657405206,\n",
       "  8.086985994584488,\n",
       "  4.652722027154,\n",
       "  5.98364065664951,\n",
       "  5.6912500655112455,\n",
       "  5.494675967946166,\n",
       "  6.923415674719769],\n",
       " 3.582765665482274: [8.63357647998981,\n",
       "  2.562958908970895,\n",
       "  8.259582178287843,\n",
       "  3.405152132880413,\n",
       "  5.848946415021431,\n",
       "  6.336111454028871,\n",
       "  6.1693853900196824,\n",
       "  4.0642579275606545,\n",
       "  6.204309684246961,\n",
       "  2.55278892868572,\n",
       "  7.045031579000781,\n",
       "  5.421999166580264,\n",
       "  7.076121939360102,\n",
       "  4.648508708594333,\n",
       "  3.5262154439299165,\n",
       "  2.2275424676804505,\n",
       "  5.669626911597102,\n",
       "  5.731301165700864,\n",
       "  4.6118717014268045,\n",
       "  7.129277449467724]}"
      ]
     },
     "execution_count": 419,
     "metadata": {},
     "output_type": "execute_result"
    }
   ],
   "source": [
    "res_d"
   ]
  },
  {
   "cell_type": "code",
   "execution_count": 420,
   "id": "1a4c3b0b",
   "metadata": {},
   "outputs": [
    {
     "data": {
      "text/plain": [
       "{5.037033873685642: 5.6837820417181835,\n",
       " 5.478559647726411: 6.470876459768935,\n",
       " 4.6858061954658154: 5.204752149269922,\n",
       " 4.1387115258788265: 5.181752490775194,\n",
       " 2.415684200339416: 4.2241978217493195,\n",
       " 5.361755984982819: 7.172102913179081,\n",
       " 5.651684903934063: 4.596813383992307,\n",
       " 1.9334745520064678: 3.799779302189566,\n",
       " 5.341767723170125: 5.888069349189895,\n",
       " 4.55021747602068: 5.754790368558867,\n",
       " 2.578127872643904: 5.676156720250921,\n",
       " 3.8112670254242884: 5.790204173747105,\n",
       " 2.4012262221244653: 7.747445834769373,\n",
       " 3.417841994243714: 6.423837508788298,\n",
       " 2.736084794132313: 6.595700695900204,\n",
       " 7.251013233910765: 5.106564859092099,\n",
       " 6.75113553820146: 7.344490855064824,\n",
       " 3.0883521849483975: 7.003722908037801,\n",
       " 4.000606925800481: 6.122705430406775,\n",
       " 3.582765665482274: 5.356228301651532}"
      ]
     },
     "execution_count": 420,
     "metadata": {},
     "output_type": "execute_result"
    }
   ],
   "source": [
    "{k:np.mean(v) for k,v in res_d.items()}"
   ]
  },
  {
   "cell_type": "code",
   "execution_count": 411,
   "id": "19568348",
   "metadata": {},
   "outputs": [
    {
     "data": {
      "text/plain": [
       "0.3"
      ]
     },
     "execution_count": 411,
     "metadata": {},
     "output_type": "execute_result"
    }
   ],
   "source": [
    "cf = 0\n",
    "for i in range(10):\n",
    "    is_, Y1, idx_f = run_trial(T,x_0=X[0],W_0=W_0)\n",
    "    cf+= is_\n",
    "cf/10"
   ]
  },
  {
   "cell_type": "code",
   "execution_count": 407,
   "id": "edad0bb1",
   "metadata": {},
   "outputs": [
    {
     "data": {
      "text/plain": [
       "1"
      ]
     },
     "execution_count": 407,
     "metadata": {},
     "output_type": "execute_result"
    }
   ],
   "source": [
    "is_"
   ]
  },
  {
   "cell_type": "code",
   "execution_count": 232,
   "id": "c3581032",
   "metadata": {},
   "outputs": [
    {
     "name": "stdout",
     "output_type": "stream",
     "text": [
      "0.41\n"
     ]
    }
   ],
   "source": [
    "tot_s = 0\n",
    "for i in range(100):\n",
    "    is_, X,sim_idx = run_trial_hub(T)\n",
    "    tot_s += is_\n",
    "print(tot_s/100)"
   ]
  },
  {
   "cell_type": "code",
   "execution_count": 317,
   "id": "56bba93b",
   "metadata": {},
   "outputs": [],
   "source": [
    "is_, X,sim_idx,W_0,W_T = run_trial(T)"
   ]
  },
  {
   "cell_type": "code",
   "execution_count": 319,
   "id": "d829b064",
   "metadata": {},
   "outputs": [
    {
     "data": {
      "text/plain": [
       "<matplotlib.collections.PathCollection at 0x1dd0209d0>"
      ]
     },
     "execution_count": 319,
     "metadata": {},
     "output_type": "execute_result"
    },
    {
     "data": {
      "image/png": "[encoded data removed]",
      "text/plain": [
       "<Figure size 432x288 with 1 Axes>"
      ]
     },
     "metadata": {
      "needs_background": "light"
     },
     "output_type": "display_data"
    }
   ],
   "source": [
    "lambda_0 = np.linalg.eigvals(W_0)\n",
    "plt.scatter(np.real(lambda_0),np.imag(lambda_0))"
   ]
  },
  {
   "cell_type": "code",
   "execution_count": 323,
   "id": "d84d2775",
   "metadata": {},
   "outputs": [
    {
     "data": {
      "text/plain": [
       "0.484"
      ]
     },
     "execution_count": 323,
     "metadata": {},
     "output_type": "execute_result"
    }
   ],
   "source": [
    "np.mean(lambda_T > 0)"
   ]
  },
  {
   "cell_type": "code",
   "execution_count": 324,
   "id": "548001cf",
   "metadata": {},
   "outputs": [],
   "source": [
    "dW = W_T-W_0"
   ]
  },
  {
   "cell_type": "code",
   "execution_count": 325,
   "id": "becb1194",
   "metadata": {},
   "outputs": [
    {
     "data": {
      "text/plain": [
       "<matplotlib.collections.PathCollection at 0x1dd4a4610>"
      ]
     },
     "execution_count": 325,
     "metadata": {},
     "output_type": "execute_result"
    },
    {
     "data": {
      "image/png": "[encoded data removed]",
      "text/plain": [
       "<Figure size 432x288 with 1 Axes>"
      ]
     },
     "metadata": {
      "needs_background": "light"
     },
     "output_type": "display_data"
    }
   ],
   "source": [
    "lambda_T = np.linalg.eigvals(dW)\n",
    "plt.scatter(np.real(lambda_T),np.imag(lambda_T))"
   ]
  },
  {
   "cell_type": "code",
   "execution_count": 331,
   "id": "4e17fe52",
   "metadata": {},
   "outputs": [
    {
     "data": {
      "text/plain": [
       "1177"
      ]
     },
     "execution_count": 331,
     "metadata": {},
     "output_type": "execute_result"
    }
   ],
   "source": [
    "np.linalg.matrix_rank(dW)"
   ]
  },
  {
   "cell_type": "code",
   "execution_count": 330,
   "id": "a52b40e8",
   "metadata": {},
   "outputs": [
    {
     "data": {
      "text/plain": [
       "0.09"
      ]
     },
     "execution_count": 330,
     "metadata": {},
     "output_type": "execute_result"
    }
   ],
   "source": [
    "np.mean(lambda_T > 0.5)"
   ]
  },
  {
   "cell_type": "code",
   "execution_count": 219,
   "id": "da74984e",
   "metadata": {},
   "outputs": [],
   "source": [
    "idx_hub = np.argmax(T.sum(0))\n",
    "idxs_from_hub = np.where(T[:,idx_hub]!=0)[0]"
   ]
  },
  {
   "cell_type": "code",
   "execution_count": 218,
   "id": "3c1d0dc5",
   "metadata": {},
   "outputs": [
    {
     "data": {
      "text/plain": [
       "5214"
      ]
     },
     "execution_count": 218,
     "metadata": {},
     "output_type": "execute_result"
    }
   ],
   "source": [
    "T.sum()"
   ]
  },
  {
   "cell_type": "code",
   "execution_count": 217,
   "id": "73fd8487",
   "metadata": {},
   "outputs": [
    {
     "data": {
      "text/plain": [
       "721"
      ]
     },
     "execution_count": 217,
     "metadata": {},
     "output_type": "execute_result"
    }
   ],
   "source": [
    "T[idxs,1478].sum()"
   ]
  },
  {
   "cell_type": "code",
   "execution_count": 307,
   "id": "7ac4db76",
   "metadata": {},
   "outputs": [],
   "source": [
    "is_, X, sims = run_trial(T)"
   ]
  },
  {
   "cell_type": "code",
   "execution_count": 308,
   "id": "5014c8aa",
   "metadata": {},
   "outputs": [
    {
     "data": {
      "text/plain": [
       "(0, 20000)"
      ]
     },
     "execution_count": 308,
     "metadata": {},
     "output_type": "execute_result"
    }
   ],
   "source": [
    "is_, sims"
   ]
  },
  {
   "cell_type": "code",
   "execution_count": 380,
   "id": "77bf1d41",
   "metadata": {},
   "outputs": [
    {
     "data": {
      "text/plain": [
       "(1.0674599226239294, 1.0674599226239294)"
      ]
     },
     "execution_count": 380,
     "metadata": {},
     "output_type": "execute_result"
    }
   ],
   "source": [
    "comp_d(X,10),comp_d2(X,10)"
   ]
  },
  {
   "cell_type": "code",
   "execution_count": 370,
   "id": "793bca8c",
   "metadata": {},
   "outputs": [
    {
     "data": {
      "text/plain": [
       "(20001, 1500)"
      ]
     },
     "execution_count": 370,
     "metadata": {},
     "output_type": "execute_result"
    }
   ],
   "source": [
    "X.shape"
   ]
  },
  {
   "cell_type": "code",
   "execution_count": 309,
   "id": "ba5df877",
   "metadata": {},
   "outputs": [],
   "source": [
    "def comp_d(X, d_sim):\n",
    "    X = X[:d_sim]\n",
    "    X_bar = X.mean(0)\n",
    "    X_ = X - X_bar\n",
    "    C = X_.T.dot(X_)/(d_sim)\n",
    "    return np.trace(C)**2/np.trace(C.dot(C))"
   ]
  },
  {
   "cell_type": "code",
   "execution_count": 374,
   "id": "4c8678dd",
   "metadata": {},
   "outputs": [
    {
     "data": {
      "text/plain": [
       "(1500, 1500)"
      ]
     },
     "execution_count": 374,
     "metadata": {},
     "output_type": "execute_result"
    }
   ],
   "source": [
    "X[0][:,None].dot(X[0][None,:]).shape"
   ]
  },
  {
   "cell_type": "code",
   "execution_count": 375,
   "id": "ccf61a99",
   "metadata": {},
   "outputs": [],
   "source": [
    "def comp_d2(X, d_sim):\n",
    "    X = X[:d_sim]\n",
    "    X_bar = X.mean(0)\n",
    "    X_ = X - X_bar\n",
    "    C = np.zeros((X.shape[1],X.shape[1]))\n",
    "    for i in range(X.shape[0]):\n",
    "        C += X_[i][:,None].dot(X_[i][None,:])/d_sim \n",
    "\n",
    "    return np.trace(C)**2/np.trace(C.dot(C))"
   ]
  },
  {
   "cell_type": "code",
   "execution_count": 353,
   "id": "f7f9b640",
   "metadata": {},
   "outputs": [
    {
     "data": {
      "text/plain": [
       "array([[-1.86511106e+001,  2.80424472e+000, -8.40201237e+000, ...,\n",
       "        -7.83639264e+000,  4.54921164e+000, -3.51197155e+000],\n",
       "       [-1.67859996e+001,  3.32790947e+000, -7.61658710e+000, ...,\n",
       "        -7.73448376e+000,  4.09429047e+000, -2.08465733e+000],\n",
       "       [-1.51073996e+001,  3.50207066e+000, -6.90943623e+000, ...,\n",
       "        -7.82944656e+000,  3.68486143e+000, -4.76545401e-001],\n",
       "       ...,\n",
       "       [-1.97626258e-323,  5.71907460e+000,  1.33933048e+000, ...,\n",
       "         1.35859624e+001,  1.97626258e-323,  5.69914178e+000],\n",
       "       [-1.97626258e-323,  5.78858784e+000,  1.33672026e+000, ...,\n",
       "         1.35942385e+001,  1.97626258e-323,  6.23776706e+000],\n",
       "       [-1.97626258e-323,  5.85104996e+000,  1.33245741e+000, ...,\n",
       "         1.36004283e+001,  1.97626258e-323,  6.72432720e+000]])"
      ]
     },
     "execution_count": 353,
     "metadata": {},
     "output_type": "execute_result"
    }
   ],
   "source": [
    "X"
   ]
  },
  {
   "cell_type": "code",
   "execution_count": 59,
   "id": "0e490ad4",
   "metadata": {},
   "outputs": [],
   "source": [
    "idxs=jnp.mask_indices(N, mask_func=lambda x,k: I!=0)"
   ]
  },
  {
   "cell_type": "code",
   "execution_count": 60,
   "id": "9a568549",
   "metadata": {},
   "outputs": [
    {
     "name": "stdout",
     "output_type": "stream",
     "text": [
      "1.15 ms ± 3.19 µs per loop (mean ± std. dev. of 7 runs, 1000 loops each)\n"
     ]
    }
   ],
   "source": [
    "%%timeit\n",
    "J*I"
   ]
  },
  {
   "cell_type": "code",
   "execution_count": 84,
   "id": "a04ce27e",
   "metadata": {},
   "outputs": [
    {
     "name": "stdout",
     "output_type": "stream",
     "text": [
      "13.8 ms ± 75.6 µs per loop (mean ± std. dev. of 7 runs, 100 loops each)\n"
     ]
    }
   ],
   "source": [
    "%%timeit\n",
    "idxs=jnp.mask_indices(N, mask_func=lambda x,k: I!=0)\n",
    "J[idxs]"
   ]
  },
  {
   "cell_type": "code",
   "execution_count": 53,
   "id": "1e31b40e",
   "metadata": {},
   "outputs": [
    {
     "data": {
      "text/plain": [
       "DeviceArray(5136, dtype=int32)"
      ]
     },
     "execution_count": 53,
     "metadata": {},
     "output_type": "execute_result"
    }
   ],
   "source": [
    "jnp.sum((I>0))"
   ]
  },
  {
   "cell_type": "code",
   "execution_count": 30,
   "id": "6df0c180",
   "metadata": {},
   "outputs": [],
   "source": [
    "jax.ops.index??"
   ]
  },
  {
   "cell_type": "code",
   "execution_count": 62,
   "id": "57c7c905",
   "metadata": {},
   "outputs": [
    {
     "data": {
      "text/plain": [
       "DeviceArray([0., 0., 0., ..., 0., 0., 0.], dtype=float32)"
      ]
     },
     "execution_count": 62,
     "metadata": {},
     "output_type": "execute_result"
    }
   ],
   "source": [
    "jnp.zeros(N,)"
   ]
  },
  {
   "cell_type": "code",
   "execution_count": 64,
   "id": "71c09787",
   "metadata": {},
   "outputs": [
    {
     "data": {
      "text/plain": [
       "0"
      ]
     },
     "execution_count": 64,
     "metadata": {},
     "output_type": "execute_result"
    }
   ],
   "source": [
    "int(jnp.round(normal(key=key)+1))"
   ]
  },
  {
   "cell_type": "code",
   "execution_count": 72,
   "id": "ccbdd18b",
   "metadata": {},
   "outputs": [
    {
     "data": {
      "text/plain": [
       "Buffer([0, 3, 9, 7, 7, 3, 8, 5, 9, 5], dtype=int32)"
      ]
     },
     "execution_count": 72,
     "metadata": {},
     "output_type": "execute_result"
    }
   ],
   "source": [
    "jax.random.randint(key=key, shape=(10,),minval=0,maxval=10)"
   ]
  },
  {
   "cell_type": "code",
   "execution_count": 78,
   "id": "79fa509f",
   "metadata": {},
   "outputs": [
    {
     "name": "stdout",
     "output_type": "stream",
     "text": [
      "756 µs ± 3.58 µs per loop (mean ± std. dev. of 7 runs, 1000 loops each)\n"
     ]
    }
   ],
   "source": [
    "%%timeit\n",
    "jax.random.choice(key, jnp.arange(N), shape=(100,))"
   ]
  },
  {
   "cell_type": "code",
   "execution_count": 83,
   "id": "1873a804",
   "metadata": {},
   "outputs": [
    {
     "data": {
      "text/plain": [
       "DeviceArray([ 590, 1069,  834, 1254, 1316, 1483,  303,  396,  935,  837,\n",
       "             1206, 1279,  502, 1065,  971,  743, 1312,  874,  139, 1464,\n",
       "              792, 1015,  732,  970,  581, 1121,   74,  374,  195, 1361,\n",
       "              959, 1491, 1171, 1150,  756, 1430,  647, 1231,  500,  538,\n",
       "             1435, 1439,  568,  283, 1246,  214, 1286, 1310,  995,   28,\n",
       "              313, 1106,  739,  996, 1127, 1112,  108, 1315,  551,  981,\n",
       "             1428,  471,  710,   44, 1354,   76,    7,  726, 1172, 1273,\n",
       "               51, 1235, 1223,  600, 1118,  332,  827,  774,  512, 1394,\n",
       "             1400, 1081,  779,  234,  171, 1393, 1040,  311, 1426, 1117,\n",
       "              312,  846,  823, 1031, 1079,  344,  470,  295,    3,  877],            dtype=int32)"
      ]
     },
     "execution_count": 83,
     "metadata": {},
     "output_type": "execute_result"
    }
   ],
   "source": [
    "jax.random.permutation(key, jnp.arange(N))[:100]"
   ]
  },
  {
   "cell_type": "code",
   "execution_count": 106,
   "id": "c4539b71",
   "metadata": {},
   "outputs": [
    {
     "data": {
      "text/plain": [
       "jax.interpreters.xla._DeviceArray"
      ]
     },
     "execution_count": 106,
     "metadata": {},
     "output_type": "execute_result"
    }
   ],
   "source": [
    "type(I)"
   ]
  },
  {
   "cell_type": "code",
   "execution_count": 108,
   "id": "083dcec8",
   "metadata": {},
   "outputs": [
    {
     "data": {
      "text/plain": [
       "Buffer([[ 1.2800897 ,  0.34339726, -0.9252373 , ..., -0.63631344,\n",
       "         -0.7198169 ,  1.0037259 ],\n",
       "        [ 0.55175924, -0.4854103 , -0.81493306, ..., -0.7870839 ,\n",
       "          0.9628519 ,  0.90983945],\n",
       "        [ 0.00231879,  0.23982914,  1.9899902 , ..., -0.02910883,\n",
       "          0.0237561 ,  1.1612936 ],\n",
       "        ...,\n",
       "        [ 1.8353235 ,  0.01348705,  0.3812247 , ..., -0.4578199 ,\n",
       "          1.1064543 , -0.5750031 ],\n",
       "        [ 0.3112348 ,  0.5311667 ,  0.5510371 , ..., -0.8669856 ,\n",
       "          0.59001297,  1.4178063 ],\n",
       "        [-0.8498853 ,  0.04492616, -0.57068187, ..., -0.32546216,\n",
       "          1.2898204 , -0.63271385]], dtype=float32)"
      ]
     },
     "execution_count": 108,
     "metadata": {},
     "output_type": "execute_result"
    }
   ],
   "source": [
    "jax.random.normal(key, shape = I.shape)"
   ]
  },
  {
   "cell_type": "code",
   "execution_count": 110,
   "id": "bd0baece",
   "metadata": {},
   "outputs": [],
   "source": [
    "from jax import jit"
   ]
  },
  {
   "cell_type": "code",
   "execution_count": 13,
   "id": "c662058e",
   "metadata": {},
   "outputs": [],
   "source": [
    "@jit\n",
    "def M(s):\n",
    "    return 2*(1 + jnp.tanh((s - 3.0)/0.01))"
   ]
  },
  {
   "cell_type": "code",
   "execution_count": 14,
   "id": "0905bda2",
   "metadata": {},
   "outputs": [],
   "source": [
    "@jit\n",
    "def F(J,X):\n",
    "    return jnp.dot(J,jnp.tanh(X)) - X"
   ]
  },
  {
   "cell_type": "code",
   "execution_count": 118,
   "id": "db316856",
   "metadata": {},
   "outputs": [
    {
     "name": "stdout",
     "output_type": "stream",
     "text": [
      "a\n"
     ]
    }
   ],
   "source": [
    "if jnp.any(b[1:4] > 0):\n",
    "    print('a')"
   ]
  },
  {
   "cell_type": "code",
   "execution_count": 120,
   "id": "e51127be",
   "metadata": {},
   "outputs": [],
   "source": [
    "key = random.PRNGKey(0)"
   ]
  },
  {
   "cell_type": "code",
   "execution_count": 124,
   "id": "868e6121",
   "metadata": {},
   "outputs": [
    {
     "data": {
      "text/plain": [
       "Buffer([[4146024105,  967050713],\n",
       "        [2718843009, 1272950319]], dtype=uint32)"
      ]
     },
     "execution_count": 124,
     "metadata": {},
     "output_type": "execute_result"
    }
   ],
   "source": [
    "random.split(key)"
   ]
  },
  {
   "cell_type": "code",
   "execution_count": 362,
   "id": "e03c18fa",
   "metadata": {},
   "outputs": [
    {
     "ename": "TypeError",
     "evalue": "stress() got an unexpected keyword argument 'target'",
     "output_type": "error",
     "traceback": [
      "\u001b[0;31m---------------------------------------------------------------------------\u001b[0m",
      "\u001b[0;31mTypeError\u001b[0m                                 Traceback (most recent call last)",
      "\u001b[0;32m<timed eval>\u001b[0m in \u001b[0;36m<module>\u001b[0;34m\u001b[0m\n",
      "\u001b[0;32m/var/folders/tr/_q_8102j4vs9md0z9mn20kw00000gn/T/ipykernel_55235/2046711441.py\u001b[0m in \u001b[0;36mrun_trial\u001b[0;34m(T, key, N, g_0, b_alpha, m_b, sparsity, g_w, target, D, eps, mu, M_0, t_int, t_max, dt, T_stop, tol)\u001b[0m\n\u001b[1;32m     58\u001b[0m     \u001b[0;32mfor\u001b[0m \u001b[0mi\u001b[0m \u001b[0;32min\u001b[0m \u001b[0mrange\u001b[0m\u001b[0;34m(\u001b[0m\u001b[0mT_sim\u001b[0m\u001b[0;34m-\u001b[0m\u001b[0;36m1\u001b[0m\u001b[0;34m)\u001b[0m\u001b[0;34m:\u001b[0m\u001b[0;34m\u001b[0m\u001b[0;34m\u001b[0m\u001b[0m\n\u001b[1;32m     59\u001b[0m         \u001b[0my\u001b[0m\u001b[0;34m[\u001b[0m\u001b[0mi\u001b[0m\u001b[0;34m]\u001b[0m \u001b[0;34m=\u001b[0m \u001b[0mnp\u001b[0m\u001b[0;34m.\u001b[0m\u001b[0mdot\u001b[0m\u001b[0;34m(\u001b[0m\u001b[0mb\u001b[0m\u001b[0;34m,\u001b[0m\u001b[0mX\u001b[0m\u001b[0;34m)\u001b[0m\u001b[0;34m\u001b[0m\u001b[0;34m\u001b[0m\u001b[0m\n\u001b[0;32m---> 60\u001b[0;31m         \u001b[0ms\u001b[0m\u001b[0;34m[\u001b[0m\u001b[0mi\u001b[0m\u001b[0;34m]\u001b[0m \u001b[0;34m=\u001b[0m \u001b[0mstress\u001b[0m\u001b[0;34m(\u001b[0m\u001b[0mb\u001b[0m\u001b[0;34m,\u001b[0m \u001b[0mX\u001b[0m\u001b[0;34m,\u001b[0m \u001b[0mtarget\u001b[0m\u001b[0;34m=\u001b[0m\u001b[0;36m0\u001b[0m\u001b[0;34m)\u001b[0m\u001b[0;34m\u001b[0m\u001b[0;34m\u001b[0m\u001b[0m\n\u001b[0m\u001b[1;32m     61\u001b[0m         \u001b[0mM_s\u001b[0m\u001b[0;34m[\u001b[0m\u001b[0mi\u001b[0m\u001b[0;34m]\u001b[0m \u001b[0;34m=\u001b[0m \u001b[0mM\u001b[0m\u001b[0;34m(\u001b[0m\u001b[0ms\u001b[0m\u001b[0;34m[\u001b[0m\u001b[0mi\u001b[0m\u001b[0;34m]\u001b[0m\u001b[0;34m)\u001b[0m\u001b[0;34m\u001b[0m\u001b[0;34m\u001b[0m\u001b[0m\n\u001b[1;32m     62\u001b[0m \u001b[0;34m\u001b[0m\u001b[0m\n",
      "\u001b[0;31mTypeError\u001b[0m: stress() got an unexpected keyword argument 'target'"
     ]
    }
   ],
   "source": [
    "%%time\n",
    "run_trial2(I, key)"
   ]
  },
  {
   "cell_type": "code",
   "execution_count": 9,
   "id": "c865a714",
   "metadata": {},
   "outputs": [],
   "source": [
    "def run_trial(T, N=1500, g_0=10, b_alpha=100, m_b =0, sparsity=0.2, g_w=10, target=0, D=1e-3, eps=3, mu=0.01, M_0=2, t_int=0, t_max=2000, dt=0.1, T_stop=100, tol=1e-2):\n",
    "    \"\"\"\n",
    "    run dynamics for a given ensemble \n",
    "  \n",
    "    Parameters:\n",
    "    T: NXN adjacency matrix for a predefined ensemble\n",
    "    N: network size\n",
    "    g_0: matrix gain for the vector b initialization\n",
    "    b_alpha: parameter determining the scale of phenotype fluctuations\n",
    "    m_b: mean of b[i]\n",
    "    sparsity (c): fraction of non-zero elements in b\n",
    "    g_w:matrix gain for J initilization\n",
    "    target: y*\n",
    "    D: The amplitude of the random walk\n",
    "    eps,mu,M_0: parameters for the Mismatch function\n",
    "    t_int: initial time for the simluation\n",
    "    dt: the step-size for the dynamics\n",
    "    t_max: if network does not converge end simulation at t=t_max\n",
    "    T_stop: if network output y~y* for T_stop time units, then network converged.\n",
    "    tol: Ms(|y-y*|)< tol is regarded as success to converge\n",
    "\n",
    "    Returns:\n",
    "    is_success: 1 if converged, 0 otherwise.\n",
    "  \n",
    "    \"\"\"\n",
    "    \n",
    "    \n",
    "    # initialize b\n",
    "    b = jnp.zeros(N,)\n",
    "    n=int(jnp.round(N*sparsity))\n",
    "    idxs = random.permutation(key,jnp.arange(N))[:n]\n",
    "    g_b = (1/g_0)*jnp.sqrt(b_alpha/n);\n",
    "    b = jax.ops.index_update(b,idxs,m_b g_b*jax.random.normal(key, shape=(n,)))\n",
    "\n",
    "    \n",
    "    # initialize J\n",
    "    #active_idxs = np.where(T!=0) #the only connections to update\n",
    "    N_W_n_z = jnp.sum(T) # number of active connections\n",
    "    avg_k = np.sum(T,1).mean() # average connectivity\n",
    "    J = (g_w/np.sqrt(avg_k))* jax.random.normal(key, shape = T.shape)\n",
    "    J = J*T\n",
    "    \n",
    "    # initialize x\n",
    "    X = 10*jax.random.normal(key, shape=(N,))\n",
    "    \n",
    "    # trial params\n",
    "    T_sim = round(t_max/dt)+1;\n",
    "    is_sucess = 0 #will be set to 1 in case the network converges\n",
    "    s = jnp.zeros((T_sim,)) #Will hold stress at all timesteps (not essensial)\n",
    "    M_s = jnp.zeros((T_sim,)) #Will hold mismatch function at all timesteps - useful for stopping creterion\n",
    "    C = \n",
    "    #run trial\n",
    "    for i in range(T_sim-1):\n",
    "        s = jax.ops.index_update(s, i, stress(b, X, target=0))\n",
    "        M_s = jax.ops.index_update(M_s,i, M(s[i]))\n",
    "        \n",
    "        X = X + dt*F(J,X)\n",
    "        delta = np.sqrt(M_s[i]*dt*D)*jax.random.normal(key=key, shape=(T.shape)) * I\n",
    "        J += delta\n",
    "        \n",
    "        if i*dt> T_stop:\n",
    "            if ~jnp.any(M_s[i-int((T_stop/dt)):i] > tol):\n",
    "                is_sucess = 1\n",
    "                break\n",
    "    return is_sucess"
   ]
  },
  {
   "cell_type": "code",
   "execution_count": 66,
   "id": "3806acde",
   "metadata": {},
   "outputs": [
    {
     "data": {
      "text/plain": [
       "array([0., 0., 0.])"
      ]
     },
     "execution_count": 66,
     "metadata": {},
     "output_type": "execute_result"
    }
   ],
   "source": [
    "np.zeros((2,3))[0]"
   ]
  },
  {
   "cell_type": "code",
   "execution_count": 394,
   "id": "5e124734",
   "metadata": {},
   "outputs": [],
   "source": [
    "def run_trial(T, x_0 = None, W_0=None,  N=1500, g_0=10, b_alpha=100, m_b =0, sparsity=0.2, g_w=10, target=0, D=1e-3, eps=3, mu=0.01, M_0=2, t_int=0, t_max=2000, dt=0.1, T_stop=100, tol=1e-2):\n",
    "    \"\"\"\n",
    "    run dynamics for a given ensemble \n",
    "  \n",
    "    Parameters:\n",
    "    T: NXN adjacency matrix for a predefined ensemble\n",
    "    N: network size\n",
    "    g_0: matrix gain for the vector b initialization\n",
    "    b_alpha: parameter determining the scale of phenotype fluctuations\n",
    "    m_b: mean of b[i]\n",
    "    sparsity (c): fraction of non-zero elements in b\n",
    "    g_w:matrix gain for J initilization\n",
    "    target: y*\n",
    "    D: The amplitude of the random walk\n",
    "    eps,mu,M_0: parameters for the Mismatch function\n",
    "    t_int: initial time for the simluation\n",
    "    dt: the step-size for the dynamics\n",
    "    t_max: if network does not converge end simulation at t=t_max\n",
    "    T_stop: if network output y~y* for T_stop time units, then network converged.\n",
    "    tol: Ms(|y-y*|)< tol is regarded as success to converge\n",
    "\n",
    "    Returns:\n",
    "    is_success: 1 if converged, 0 otherwise.\n",
    "  \n",
    "    \"\"\"\n",
    "    \n",
    "    \n",
    "    # initialize b\n",
    "    b = np.zeros(N,)\n",
    "    n=int(np.round(N*sparsity))\n",
    "    idxs = np.random.permutation(range(N))[:n]\n",
    "    g_b = (1/g_0)*np.sqrt(b_alpha/n);\n",
    "    b[idxs] = m_b + g_b*np.random.randn(n)\n",
    "    \n",
    "    active_idxs = np.where(T!=0) #the only connections to update\n",
    "    N_W_n_z = np.sum(T) # number of active connections\n",
    "    avg_k = np.sum(T,1).mean() # average connectivity\n",
    "    \n",
    "    # initialize J\n",
    "    if W_0 is not None:\n",
    "        W_rec = W_0\n",
    "    else:\n",
    "\n",
    "        W_int = np.zeros((N,N))\n",
    "        W_int[active_idxs] = (g_w/np.sqrt(avg_k))*np.random.randn(N_W_n_z,)\n",
    "        W_rec = W_int.copy()\n",
    "    \n",
    "\n",
    "    \n",
    "    # trial params\n",
    "    T_sim = round(t_max/dt)+1;\n",
    "    is_sucess = 0 #will be set to 1 in case the network converges\n",
    "    s = np.zeros((T_sim,)) #Will hold stress at all timesteps (not essensial)\n",
    "    M_s = np.zeros((T_sim,)) #Will hold mismatch function at all timesteps - useful for stopping creterion\n",
    "    #X_z = X - X.mean()\n",
    "    #C = X_z.dot(X_z.T)\n",
    "    \n",
    "        # initialize x\n",
    "    X = np.zeros((T_sim,N))\n",
    "    if x_0 is not None:\n",
    "        X[0] = x_0\n",
    "    else:\n",
    "        X[0] = 10 *np.random.randn(N)\n",
    "    #run trial\n",
    "    for i in range(T_sim-1):\n",
    "        s[i] = stress(b, X[i], target=0)\n",
    "        M_s[i] = 2*(1 + np.tanh((s[i] - eps)/mu))\n",
    "        \n",
    "        X[i+1] = X[i] + dt*(np.dot(W_rec,np.tanh(X[i])) - X[i])\n",
    "        #X_z = X - X.mean()\n",
    "        #C += X_z.dot(X_z.T)\n",
    "        delta = np.sqrt(M_s[i]*dt*D)*np.random.randn(N_W_n_z,)\n",
    "        W_rec[active_idxs] = W_rec[active_idxs] + delta\n",
    "        \n",
    "        if i*dt> T_stop:\n",
    "            if ~np.any(M_s[i-int((T_stop/dt)):i] > tol):\n",
    "                is_sucess = 1\n",
    "                break\n",
    "    \n",
    "    #d = np.trace(C)**2/np.trace(C.dot(C))\n",
    "    return is_sucess, X, i+1"
   ]
  },
  {
   "cell_type": "code",
   "execution_count": 315,
   "id": "c40b9645",
   "metadata": {},
   "outputs": [
    {
     "data": {
      "text/plain": [
       "<matplotlib.collections.PathCollection at 0x1dcfc3f40>"
      ]
     },
     "execution_count": 315,
     "metadata": {},
     "output_type": "execute_result"
    },
    {
     "data": {
      "image/png": "[encoded data removed]",
      "text/plain": [
       "<Figure size 432x288 with 1 Axes>"
      ]
     },
     "metadata": {
      "needs_background": "light"
     },
     "output_type": "display_data"
    }
   ],
   "source": [
    "x = np.linalg.eigvals(W_rec)\n",
    "plt.scatter(np.real(x),np.imag(x))"
   ]
  },
  {
   "cell_type": "code",
   "execution_count": 334,
   "id": "c1701a6d",
   "metadata": {},
   "outputs": [
    {
     "data": {
      "text/plain": [
       "1402"
      ]
     },
     "execution_count": 334,
     "metadata": {},
     "output_type": "execute_result"
    }
   ],
   "source": [
    "np.argmax(T.sum(0))"
   ]
  },
  {
   "cell_type": "code",
   "execution_count": 339,
   "id": "c72024ff",
   "metadata": {},
   "outputs": [],
   "source": [
    "T[1402,1402] = 1"
   ]
  },
  {
   "cell_type": "code",
   "execution_count": 340,
   "id": "6112da08",
   "metadata": {},
   "outputs": [],
   "source": [
    "def run_trial_hub(T,top_k=1, N=1500, g_0=10, b_alpha=100, m_b =0, sparsity=0.2, g_w=10, target=0, D=1e-3, eps=3, mu=0.01, M_0=2, t_int=0, t_max=2000, dt=0.1, T_stop=100, tol=1e-2):\n",
    "    \"\"\"\n",
    "    run dynamics for a given ensemble \n",
    "  \n",
    "    Parameters:\n",
    "    T: NXN adjacency matrix for a predefined ensemble\n",
    "    N: network size\n",
    "    g_0: matrix gain for the vector b initialization\n",
    "    b_alpha: parameter determining the scale of phenotype fluctuations\n",
    "    m_b: mean of b[i]\n",
    "    sparsity (c): fraction of non-zero elements in b\n",
    "    g_w:matrix gain for J initilization\n",
    "    target: y*\n",
    "    D: The amplitude of the random walk\n",
    "    eps,mu,M_0: parameters for the Mismatch function\n",
    "    t_int: initial time for the simluation\n",
    "    dt: the step-size for the dynamics\n",
    "    t_max: if network does not converge end simulation at t=t_max\n",
    "    T_stop: if network output y~y* for T_stop time units, then network converged.\n",
    "    tol: Ms(|y-y*|)< tol is regarded as success to converge\n",
    "\n",
    "    Returns:\n",
    "    is_success: 1 if converged, 0 otherwise.\n",
    "  \n",
    "    \"\"\"\n",
    "    \n",
    "    \n",
    "    # initialize b\n",
    "    b = np.zeros(N,)\n",
    "    n=int(np.round(N*sparsity))\n",
    "    idxs = np.random.permutation(range(N))[:n]\n",
    "    g_b = (1/g_0)*np.sqrt(b_alpha/n);\n",
    "    b[idxs] = m_b + g_b*np.random.randn(n)\n",
    "    \n",
    "    # initialize J\n",
    "    active_idxs = np.where(T!=0) #the only connections to update\n",
    "    N_W_n_z = np.sum(T) # number of active connections\n",
    "    avg_k = np.sum(T,1).mean() # average connectivity\n",
    "    W_int = np.zeros((N,N))\n",
    "    W_int[active_idxs] = (g_w/np.sqrt(avg_k))*np.random.randn(N_W_n_z,)\n",
    "    W_rec = W_int.copy()\n",
    "    \n",
    "    \n",
    "    \n",
    "    idxs_from_hub = np.where(T[:,idx_hub]!=0)[0]\n",
    "    tot_N_z = len(idxs_from_hub)\n",
    "    # trial params\n",
    "    T_sim = round(t_max/dt)+1;\n",
    "    is_sucess = 0 #will be set to 1 in case the network converges\n",
    "    s = np.zeros((T_sim,)) #Will hold stress at all timesteps (not essensial)\n",
    "    M_s = np.zeros((T_sim,)) #Will hold mismatch function at all timesteps - useful for stopping creterion\n",
    "    #X_z = X - X.mean()\n",
    "    #C = X_z.dot(X_z.T)\n",
    "    \n",
    "        # initialize x\n",
    "    X = np.zeros((T_sim,N))\n",
    "    X[0] = 10 *np.random.randn(N)\n",
    "    #run trial\n",
    "    for i in range(T_sim-1):\n",
    "        s[i] = stress(b, X[i], target=0)\n",
    "        M_s[i] = 2*(1 + np.tanh((s[i] - eps)/mu))\n",
    "        \n",
    "        X[i+1] = X[i] + dt*(np.dot(W_rec,np.tanh(X[i])) - X[i])\n",
    "        #X_z = X - X.mean()\n",
    "        #C += X_z.dot(X_z.T)\n",
    "        delta = np.sqrt(M_s[i]*dt*D)*np.random.randn(tot_N_z,)\n",
    "        W_rec[idxs_from_hub,idx_hub] = W_rec[idxs_from_hub,idx_hub] + delta\n",
    "        \n",
    "        if i*dt> T_stop:\n",
    "            if ~np.any(M_s[i-int((T_stop/dt)):i] > tol):\n",
    "                is_sucess = 1\n",
    "                break\n",
    "    \n",
    "    #d = np.trace(C)**2/np.trace(C.dot(C))\n",
    "    return is_sucess, X, i+1 "
   ]
  },
  {
   "cell_type": "code",
   "execution_count": 355,
   "id": "3ff95f42",
   "metadata": {},
   "outputs": [],
   "source": [
    "import jax"
   ]
  },
  {
   "cell_type": "code",
   "execution_count": 361,
   "id": "d4781dcd",
   "metadata": {},
   "outputs": [
    {
     "data": {
      "text/plain": [
       "array([[ 1.10915221,  1.69437341,  0.94914989, ...,  0.10496568,\n",
       "         1.18132917, -0.20823615],\n",
       "       [ 1.69437341,  2.58837446,  1.44994918, ...,  0.16034865,\n",
       "         1.80463304, -0.31810764],\n",
       "       [ 0.94914989,  1.44994918,  0.81222893, ...,  0.08982371,\n",
       "         1.01091486, -0.17819675],\n",
       "       ...,\n",
       "       [ 0.10496568,  0.16034865,  0.08982371, ...,  0.00993353,\n",
       "         0.11179622, -0.01970663],\n",
       "       [ 1.18132917,  1.80463304,  1.01091486, ...,  0.11179622,\n",
       "         1.25820296, -0.2217869 ],\n",
       "       [-0.20823615, -0.31810764, -0.17819675, ..., -0.01970663,\n",
       "        -0.2217869 ,  0.03909499]])"
      ]
     },
     "execution_count": 361,
     "metadata": {},
     "output_type": "execute_result"
    }
   ],
   "source": [
    "X = np.random.randn(100,1)\n",
    "np.dot(X,X.T)"
   ]
  },
  {
   "cell_type": "code",
   "execution_count": 352,
   "id": "0947798a",
   "metadata": {},
   "outputs": [],
   "source": [
    "# sin() - not easy\n",
    "# 2 fixed point (input dependent)"
   ]
  },
  {
   "cell_type": "code",
   "execution_count": 353,
   "id": "1dd97956",
   "metadata": {},
   "outputs": [],
   "source": [
    "is_success, y,s = run_trial2(T,t_max=2000)"
   ]
  },
  {
   "cell_type": "code",
   "execution_count": 354,
   "id": "e74f8124",
   "metadata": {},
   "outputs": [
    {
     "data": {
      "text/plain": [
       "[<matplotlib.lines.Line2D at 0x1d53052b0>]"
      ]
     },
     "execution_count": 354,
     "metadata": {},
     "output_type": "execute_result"
    },
    {
     "data": {
      "image/png": "[encoded data removed]",
      "text/plain": [
       "<Figure size 432x288 with 1 Axes>"
      ]
     },
     "metadata": {
      "needs_background": "light"
     },
     "output_type": "display_data"
    }
   ],
   "source": [
    "plt.plot(s)"
   ]
  },
  {
   "cell_type": "code",
   "execution_count": 350,
   "id": "52593311",
   "metadata": {},
   "outputs": [
    {
     "data": {
      "text/plain": [
       "array([4.89120476, 5.03552373, 5.14841474, 5.13927334, 5.02651574,\n",
       "       4.89355793, 4.89165453, 4.88843444, 4.7572052 , 0.        ])"
      ]
     },
     "execution_count": 350,
     "metadata": {},
     "output_type": "execute_result"
    }
   ],
   "source": [
    "s[-10:]"
   ]
  },
  {
   "cell_type": "code",
   "execution_count": 336,
   "id": "e6302aa6",
   "metadata": {},
   "outputs": [
    {
     "data": {
      "text/plain": [
       "0"
      ]
     },
     "execution_count": 336,
     "metadata": {},
     "output_type": "execute_result"
    }
   ],
   "source": [
    "is_success"
   ]
  },
  {
   "cell_type": "code",
   "execution_count": 349,
   "id": "7332fe0e",
   "metadata": {},
   "outputs": [
    {
     "data": {
      "text/plain": [
       "[<matplotlib.lines.Line2D at 0x1d5294580>]"
      ]
     },
     "execution_count": 349,
     "metadata": {},
     "output_type": "execute_result"
    },
    {
     "data": {
      "image/png": "[encoded data removed]",
      "text/plain": [
       "<Figure size 432x288 with 1 Axes>"
      ]
     },
     "metadata": {
      "needs_background": "light"
     },
     "output_type": "display_data"
    }
   ],
   "source": [
    "plt.plot(y)"
   ]
  },
  {
   "cell_type": "code",
   "execution_count": 280,
   "id": "90326484",
   "metadata": {},
   "outputs": [
    {
     "data": {
      "text/plain": [
       "[<matplotlib.lines.Line2D at 0x1d4775d60>]"
      ]
     },
     "execution_count": 280,
     "metadata": {},
     "output_type": "execute_result"
    },
    {
     "data": {
      "image/png": "[encoded data removed]",
      "text/plain": [
       "<Figure size 432x288 with 1 Axes>"
      ]
     },
     "metadata": {
      "needs_background": "light"
     },
     "output_type": "display_data"
    }
   ],
   "source": [
    "plt.plot(np.sin(np.arange(100000)/1000))"
   ]
  },
  {
   "cell_type": "code",
   "execution_count": 249,
   "id": "fb256ea1",
   "metadata": {},
   "outputs": [
    {
     "data": {
      "text/plain": [
       "[<matplotlib.lines.Line2D at 0x1d2bd2d00>]"
      ]
     },
     "execution_count": 249,
     "metadata": {},
     "output_type": "execute_result"
    },
    {
     "data": {
      "image/png": "[encoded data removed]",
      "text/plain": [
       "<Figure size 432x288 with 1 Axes>"
      ]
     },
     "metadata": {
      "needs_background": "light"
     },
     "output_type": "display_data"
    }
   ],
   "source": [
    "plt.plot(y[13750:14000])"
   ]
  },
  {
   "cell_type": "code",
   "execution_count": 240,
   "id": "0ef4d2fd",
   "metadata": {
    "collapsed": true
   },
   "outputs": [
    {
     "data": {
      "text/plain": [
       "array([13750, 13751, 13752, 13753, 13754, 13755, 13756, 13757, 13758,\n",
       "       13759, 13760, 13761, 13762, 13763, 13764, 13765, 13766, 13767,\n",
       "       13768, 13769, 13770, 13771, 13772, 13773, 13774, 13775, 13776,\n",
       "       13777, 13778, 13779, 13780, 13781, 13782, 13783, 13784, 13785,\n",
       "       13786, 13787, 13788, 13789, 13790, 13791, 13792, 13793, 13794,\n",
       "       13795, 13796, 13797, 13798, 13799, 13800, 13801, 13802, 13803,\n",
       "       13804, 13805, 13806, 13807, 13808, 13809, 13810, 13811, 13812,\n",
       "       13813, 13814, 13815, 13816, 13817, 13818, 13819, 13820, 13821,\n",
       "       13822, 13823, 13824, 13825, 13826, 13827, 13828, 13829, 13830,\n",
       "       13831, 13832, 13833, 13834, 13835, 13836, 13837, 13838, 13839,\n",
       "       13840, 13841, 13842, 13843, 13844, 13845, 13846, 13847, 13848,\n",
       "       13849, 13850, 13851, 13852, 13853, 13854, 13855, 13856, 13857,\n",
       "       13858, 13859, 13860, 13861, 13862, 13863, 13864, 13865, 13866,\n",
       "       13867, 13868, 13869, 13870, 13871, 13872, 13873, 13874, 13875,\n",
       "       13876, 13877, 13878, 13879, 13880, 13881, 13882, 13883, 13884,\n",
       "       13885, 13886, 13887, 13888, 13889, 13890, 13891, 13892, 13893,\n",
       "       13894, 13895, 13896, 13897, 13898, 13899, 13900, 13901, 13902,\n",
       "       13903, 13904, 13905, 13906, 13907, 13908, 13909, 13910, 13911,\n",
       "       13912, 13913, 13914, 13915, 13916, 13917, 13918, 13919, 13920,\n",
       "       13921, 13922, 13923, 13924, 13925, 13926, 13927, 13928, 13929,\n",
       "       13930, 13931, 13932, 13933, 13934, 13935, 13936, 13937, 13938,\n",
       "       13939, 13940, 13941, 13942, 13943, 13944, 13945, 13946, 13947,\n",
       "       13948, 13949, 13950, 13951, 13952, 13953, 13954, 13955, 13956,\n",
       "       13957, 13958, 13959, 13960, 13961, 13962, 13963, 13964, 13965,\n",
       "       13966, 13967, 13968, 13969, 13970, 13971, 13972, 13973, 13974,\n",
       "       13975, 13976, 13977, 13978, 13979, 13980, 13981, 13982, 13983,\n",
       "       13984, 13985, 13986, 13987, 13988, 13989, 13990, 13991, 13992,\n",
       "       13993, 13994, 13995, 13996, 13997, 13998, 13999])"
      ]
     },
     "execution_count": 240,
     "metadata": {},
     "output_type": "execute_result"
    }
   ],
   "source": [
    "np.arange(13750,14000)"
   ]
  },
  {
   "cell_type": "code",
   "execution_count": 236,
   "id": "833ed8ca",
   "metadata": {},
   "outputs": [
    {
     "data": {
      "text/plain": [
       "array([0.000e+00, 1.000e-01, 2.000e-01, ..., 2.497e+02, 2.498e+02,\n",
       "       2.499e+02])"
      ]
     },
     "execution_count": 236,
     "metadata": {},
     "output_type": "execute_result"
    }
   ],
   "source": [
    "np.arange(0,250,0.1)"
   ]
  },
  {
   "cell_type": "code",
   "execution_count": 254,
   "id": "fc442666",
   "metadata": {},
   "outputs": [
    {
     "data": {
      "text/plain": [
       "[<matplotlib.lines.Line2D at 0x1d3b07790>]"
      ]
     },
     "execution_count": 254,
     "metadata": {},
     "output_type": "execute_result"
    },
    {
     "data": {
      "image/png": "[encoded data removed]",
      "text/plain": [
       "<Figure size 432x288 with 1 Axes>"
      ]
     },
     "metadata": {
      "needs_background": "light"
     },
     "output_type": "display_data"
    }
   ],
   "source": [
    "plt.plot(np.sin(np.arange(13750,14000)/10))"
   ]
  },
  {
   "cell_type": "code",
   "execution_count": null,
   "id": "181b848b",
   "metadata": {},
   "outputs": [],
   "source": [
    "plt.plot(np.linspace())"
   ]
  }
 ],
 "metadata": {
  "kernelspec": {
   "display_name": "Python 3 (ipykernel)",
   "language": "python",
   "name": "python3"
  },
  "language_info": {
   "codemirror_mode": {
    "name": "ipython",
    "version": 3
   },
   "file_extension": ".py",
   "mimetype": "text/x-python",
   "name": "python",
   "nbconvert_exporter": "python",
   "pygments_lexer": "ipython3",
   "version": "3.9.7"
  }
 },
 "nbformat": 4,
 "nbformat_minor": 5
}
